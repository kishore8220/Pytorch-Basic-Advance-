{
  "nbformat": 4,
  "nbformat_minor": 0,
  "metadata": {
    "colab": {
      "provenance": [],
      "toc_visible": true,
      "gpuType": "T4",
      "authorship_tag": "ABX9TyMrjJaUffX2BthcQF1W2g/G",
      "include_colab_link": true
    },
    "kernelspec": {
      "name": "python3",
      "display_name": "Python 3"
    },
    "language_info": {
      "name": "python"
    },
    "accelerator": "GPU"
  },
  "cells": [
    {
      "cell_type": "markdown",
      "metadata": {
        "id": "view-in-github",
        "colab_type": "text"
      },
      "source": [
        "<a href=\"https://colab.research.google.com/github/kishore8220/Pytorch-Basic-Advance-/blob/main/Pytorch_Fundamentals.ipynb\" target=\"_parent\"><img src=\"https://colab.research.google.com/assets/colab-badge.svg\" alt=\"Open In Colab\"/></a>"
      ]
    },
    {
      "cell_type": "markdown",
      "source": [
        "# Machine Learning vs Deep Learning\n",
        "\n",
        "## Machine Learning\n",
        "\n",
        "- **Definition**: Machine Learning is a subset of artificial intelligence that involves training models on data to make predictions or decisions without being explicitly programmed.\n",
        "- **Examples**: Linear Regression, Decision Trees, Support Vector Machines (SVM).\n",
        "\n",
        "![Machine Learning](https://cdn.prod.website-files.com/5fb24a974499e90dae242d98/60f6fcbbeb0b8f57a7980a98_5f213db7c7763a9288759ad1_5eac2d0ef117c236e34cc0ff_DeepLearning.jpeg)\n",
        "\n",
        "## Deep Learning\n",
        "\n",
        "- **Definition**: Deep Learning is a next phase of machine learning that uses neural networks with many layers (deep neural networks) to learn from data.\n",
        "- **Examples**: Convolutional Neural Networks (CNN), Recurrent Neural Networks (RNN), Generative Adversarial Networks (GAN).\n",
        "\n"
      ],
      "metadata": {
        "id": "AlkIocaKh5qP"
      }
    },
    {
      "cell_type": "markdown",
      "source": [
        "##  What is a Tensor?\n",
        "\n",
        "## Definition\n",
        "\n",
        "A tensor is a multi-dimensional array that is a generalization of matrices to higher dimensions. Tensors are fundamental to the field of machine learning and deep learning, particularly in the context of neural networks.\n",
        "\n",
        "## Key Concepts\n",
        "\n",
        "- **Scalars**: Zero-dimensional tensors, representing a single value.\n",
        "- **Vectors**: One-dimensional tensors, representing an array of values.\n",
        "- **Matrices**: Two-dimensional tensors, representing a grid of values.\n",
        "- **Higher-Dimensional Tensors**: Tensors with more than two dimensions, used to represent complex data structures.\n",
        "\n",
        "![Tensor Representation](https://www.researchgate.net/publication/383280310/figure/fig1/AS:11431281272889807@1724300351482/sual-representation-of-Pytorch-tensors-From-left-to-right-we-see-a-scalar-x-R-a.png)"
      ],
      "metadata": {
        "id": "iRXBAS3hqyOh"
      }
    },
    {
      "cell_type": "code",
      "source": [
        "import torch\n",
        "import numpy as np\n",
        "import pandas as pd\n",
        "import matplotlib.pyplot as plt"
      ],
      "metadata": {
        "id": "nTMVaLNSuxaA"
      },
      "execution_count": null,
      "outputs": []
    },
    {
      "cell_type": "code",
      "source": [
        "print(\"Version Of Torch:\" , torch.__version__)"
      ],
      "metadata": {
        "colab": {
          "base_uri": "https://localhost:8080/"
        },
        "id": "kHCa1vuMx-Or",
        "outputId": "1f468de1-af3f-4e8a-c6cd-af5ad7cb55f7"
      },
      "execution_count": null,
      "outputs": [
        {
          "output_type": "stream",
          "name": "stdout",
          "text": [
            "Version Of Torch: 2.6.0+cu124\n"
          ]
        }
      ]
    },
    {
      "cell_type": "markdown",
      "source": [
        "### Creating Tensors\n",
        "\n",
        "#### 1.Scalar\n",
        "#### 2.Vector\n",
        "#### 3.2d-Matrix\n",
        "\n",
        "#### in torch we can't reverse tensor using slicling instead of we use torch.flip"
      ],
      "metadata": {
        "id": "eXeodzCmyTzO"
      }
    },
    {
      "cell_type": "code",
      "source": [
        "# It take only one argument because it 0-dimensional array called as scalar\n",
        "scalar_0d = torch.tensor(1)\n",
        "scalar_0d"
      ],
      "metadata": {
        "colab": {
          "base_uri": "https://localhost:8080/"
        },
        "id": "SAJOI_RZyXFl",
        "outputId": "f7911735-381a-44f7-bd9e-ecb1eb5e5f6a"
      },
      "execution_count": null,
      "outputs": [
        {
          "output_type": "execute_result",
          "data": {
            "text/plain": [
              "tensor(1)"
            ]
          },
          "metadata": {},
          "execution_count": 3
        }
      ]
    },
    {
      "cell_type": "code",
      "source": [
        "scalar_0d.ndim"
      ],
      "metadata": {
        "colab": {
          "base_uri": "https://localhost:8080/"
        },
        "id": "L9IYKfP9y72E",
        "outputId": "652697b1-449f-4070-c96b-ab43cac4faf7"
      },
      "execution_count": null,
      "outputs": [
        {
          "output_type": "execute_result",
          "data": {
            "text/plain": [
              "0"
            ]
          },
          "metadata": {},
          "execution_count": 4
        }
      ]
    },
    {
      "cell_type": "code",
      "source": [
        "# Get tensor as int\n",
        "scalar_0d.item()"
      ],
      "metadata": {
        "colab": {
          "base_uri": "https://localhost:8080/"
        },
        "id": "nVDmnU1fzVPR",
        "outputId": "2d67b9c8-cd43-4257-c820-88f110a2335c"
      },
      "execution_count": null,
      "outputs": [
        {
          "output_type": "execute_result",
          "data": {
            "text/plain": [
              "1"
            ]
          },
          "metadata": {},
          "execution_count": 5
        }
      ]
    },
    {
      "cell_type": "code",
      "source": [
        " vector_1d = torch.tensor([1,2,3,4,5])\n",
        " vector_1d"
      ],
      "metadata": {
        "colab": {
          "base_uri": "https://localhost:8080/"
        },
        "id": "e7sMZhcOz1e3",
        "outputId": "ea3267ef-2e32-4cbf-d689-8ea2b2f906ef"
      },
      "execution_count": null,
      "outputs": [
        {
          "output_type": "execute_result",
          "data": {
            "text/plain": [
              "tensor([1, 2, 3, 4, 5])"
            ]
          },
          "metadata": {},
          "execution_count": 6
        }
      ]
    },
    {
      "cell_type": "code",
      "source": [
        "vector_1d.ndim\n"
      ],
      "metadata": {
        "colab": {
          "base_uri": "https://localhost:8080/"
        },
        "id": "aPAmuo5x0JhX",
        "outputId": "97ab6fb5-215d-4100-8422-5b1d51fb49f4"
      },
      "execution_count": null,
      "outputs": [
        {
          "output_type": "execute_result",
          "data": {
            "text/plain": [
              "1"
            ]
          },
          "metadata": {},
          "execution_count": 7
        }
      ]
    },
    {
      "cell_type": "code",
      "source": [
        "vector_1d[1].item()"
      ],
      "metadata": {
        "colab": {
          "base_uri": "https://localhost:8080/"
        },
        "id": "jLzj56VM1TiO",
        "outputId": "7f93e055-fb82-492e-b855-dfc85d458bb4"
      },
      "execution_count": null,
      "outputs": [
        {
          "output_type": "execute_result",
          "data": {
            "text/plain": [
              "2"
            ]
          },
          "metadata": {},
          "execution_count": 8
        }
      ]
    },
    {
      "cell_type": "code",
      "source": [
        "vector_1d.shape"
      ],
      "metadata": {
        "colab": {
          "base_uri": "https://localhost:8080/"
        },
        "id": "BCi7R6MY08YN",
        "outputId": "dff1fc34-11ea-42a7-fb87-86b340f07174"
      },
      "execution_count": null,
      "outputs": [
        {
          "output_type": "execute_result",
          "data": {
            "text/plain": [
              "torch.Size([5])"
            ]
          },
          "metadata": {},
          "execution_count": 9
        }
      ]
    },
    {
      "cell_type": "code",
      "source": [
        "vector_1d[0:5]"
      ],
      "metadata": {
        "colab": {
          "base_uri": "https://localhost:8080/"
        },
        "id": "NBedialX1hzG",
        "outputId": "5401e750-2922-4397-e920-b5d69cf9f8c3"
      },
      "execution_count": null,
      "outputs": [
        {
          "output_type": "execute_result",
          "data": {
            "text/plain": [
              "tensor([1, 2, 3, 4, 5])"
            ]
          },
          "metadata": {},
          "execution_count": 10
        }
      ]
    },
    {
      "cell_type": "code",
      "source": [
        "torch.flip(vector_1d, [0]) # 2 Arguments one is your vector , another is dimension"
      ],
      "metadata": {
        "colab": {
          "base_uri": "https://localhost:8080/"
        },
        "id": "6qbLZ8WI3Zsn",
        "outputId": "1301277c-725e-4a64-98f9-e23a73620f86"
      },
      "execution_count": null,
      "outputs": [
        {
          "output_type": "execute_result",
          "data": {
            "text/plain": [
              "tensor([5, 4, 3, 2, 1])"
            ]
          },
          "metadata": {},
          "execution_count": 11
        }
      ]
    },
    {
      "cell_type": "code",
      "source": [
        "matrix_2d = torch.tensor([[1,2,5,4,5],\n",
        "                          [5,2,3,4,5]])\n",
        "matrix_2d"
      ],
      "metadata": {
        "colab": {
          "base_uri": "https://localhost:8080/"
        },
        "id": "P0nBStfh4PhY",
        "outputId": "23535ddd-9d9a-407a-d6fb-f522d4c670df"
      },
      "execution_count": null,
      "outputs": [
        {
          "output_type": "execute_result",
          "data": {
            "text/plain": [
              "tensor([[1, 2, 5, 4, 5],\n",
              "        [5, 2, 3, 4, 5]])"
            ]
          },
          "metadata": {},
          "execution_count": 12
        }
      ]
    },
    {
      "cell_type": "code",
      "source": [
        "matrix_2d.ndim"
      ],
      "metadata": {
        "colab": {
          "base_uri": "https://localhost:8080/"
        },
        "id": "QwtiRayc4hS5",
        "outputId": "4301f24f-0f63-468d-dbce-e00f86ddf656"
      },
      "execution_count": null,
      "outputs": [
        {
          "output_type": "execute_result",
          "data": {
            "text/plain": [
              "2"
            ]
          },
          "metadata": {},
          "execution_count": 13
        }
      ]
    },
    {
      "cell_type": "code",
      "source": [
        "matrix_2d.shape # In this first is column and second is row , 2 row and 5 columns"
      ],
      "metadata": {
        "colab": {
          "base_uri": "https://localhost:8080/"
        },
        "id": "vnwT2q9b4nP_",
        "outputId": "b4bc686f-d82c-4d52-a9de-cbaafc02da53"
      },
      "execution_count": null,
      "outputs": [
        {
          "output_type": "execute_result",
          "data": {
            "text/plain": [
              "torch.Size([2, 5])"
            ]
          },
          "metadata": {},
          "execution_count": 14
        }
      ]
    },
    {
      "cell_type": "code",
      "source": [
        "matrix_2d[1,3].item() # in this first dimension and next is index"
      ],
      "metadata": {
        "colab": {
          "base_uri": "https://localhost:8080/"
        },
        "id": "T95dcGX_4z3o",
        "outputId": "dc0f2877-8725-4198-8dcb-7dd0e5b75633"
      },
      "execution_count": null,
      "outputs": [
        {
          "output_type": "execute_result",
          "data": {
            "text/plain": [
              "4"
            ]
          },
          "metadata": {},
          "execution_count": 15
        }
      ]
    },
    {
      "cell_type": "code",
      "source": [
        "matrix_2d[:1,2:4]"
      ],
      "metadata": {
        "colab": {
          "base_uri": "https://localhost:8080/"
        },
        "id": "sIKeNuWm4-ow",
        "outputId": "f2fb36cc-d864-44f0-ff68-8f7df1c0ba73"
      },
      "execution_count": null,
      "outputs": [
        {
          "output_type": "execute_result",
          "data": {
            "text/plain": [
              "tensor([[5, 4]])"
            ]
          },
          "metadata": {},
          "execution_count": 16
        }
      ]
    },
    {
      "cell_type": "code",
      "source": [
        "three_dim = torch.tensor([[[1,2,3],[4,5,6]],\n",
        "                          [[7,8,9],[1,2,3]]])\n",
        "three_dim"
      ],
      "metadata": {
        "colab": {
          "base_uri": "https://localhost:8080/"
        },
        "id": "kiMfz9cgLCzn",
        "outputId": "aa706702-c7d9-4359-810f-32edd47a3cab"
      },
      "execution_count": null,
      "outputs": [
        {
          "output_type": "execute_result",
          "data": {
            "text/plain": [
              "tensor([[[1, 2, 3],\n",
              "         [4, 5, 6]],\n",
              "\n",
              "        [[7, 8, 9],\n",
              "         [1, 2, 3]]])"
            ]
          },
          "metadata": {},
          "execution_count": 17
        }
      ]
    },
    {
      "cell_type": "code",
      "source": [
        "three_dim.ndim"
      ],
      "metadata": {
        "colab": {
          "base_uri": "https://localhost:8080/"
        },
        "id": "Mx5hhYzILeb2",
        "outputId": "0eed376f-148c-4f8b-ec65-ab8011602bce"
      },
      "execution_count": null,
      "outputs": [
        {
          "output_type": "execute_result",
          "data": {
            "text/plain": [
              "3"
            ]
          },
          "metadata": {},
          "execution_count": 18
        }
      ]
    },
    {
      "cell_type": "code",
      "source": [
        "three_dim.shape"
      ],
      "metadata": {
        "colab": {
          "base_uri": "https://localhost:8080/"
        },
        "id": "eMcgkY1mLhrw",
        "outputId": "50309706-8546-4860-84aa-217c69aecda1"
      },
      "execution_count": null,
      "outputs": [
        {
          "output_type": "execute_result",
          "data": {
            "text/plain": [
              "torch.Size([2, 2, 3])"
            ]
          },
          "metadata": {},
          "execution_count": 19
        }
      ]
    },
    {
      "cell_type": "code",
      "source": [
        "three_dim[1:,0:2,2:4]"
      ],
      "metadata": {
        "colab": {
          "base_uri": "https://localhost:8080/"
        },
        "id": "5JhLHZixMRfT",
        "outputId": "bb0430d6-ae1f-4fb7-dd87-eeddba791750"
      },
      "execution_count": null,
      "outputs": [
        {
          "output_type": "execute_result",
          "data": {
            "text/plain": [
              "tensor([[[9],\n",
              "         [3]]])"
            ]
          },
          "metadata": {},
          "execution_count": 20
        }
      ]
    },
    {
      "cell_type": "code",
      "source": [
        "three_dim[1,1,2].item()"
      ],
      "metadata": {
        "colab": {
          "base_uri": "https://localhost:8080/"
        },
        "id": "jdNALIJOsc5W",
        "outputId": "3ef5535b-00fe-4a18-d146-969a4b13661b"
      },
      "execution_count": null,
      "outputs": [
        {
          "output_type": "execute_result",
          "data": {
            "text/plain": [
              "3"
            ]
          },
          "metadata": {},
          "execution_count": 21
        }
      ]
    },
    {
      "cell_type": "markdown",
      "source": [
        "### Random tensors"
      ],
      "metadata": {
        "id": "dauZXFlryHsB"
      }
    },
    {
      "cell_type": "code",
      "source": [
        "# Create random tensors\n",
        "# rand -> Vector\n",
        "rand_vec = torch.rand(4)\n",
        "rand_vec"
      ],
      "metadata": {
        "colab": {
          "base_uri": "https://localhost:8080/"
        },
        "id": "6Y80TLTwv5O0",
        "outputId": "6c5bc879-6e5e-49af-8678-8b31a6b1e47e"
      },
      "execution_count": null,
      "outputs": [
        {
          "output_type": "execute_result",
          "data": {
            "text/plain": [
              "tensor([0.4832, 0.8734, 0.4563, 0.5666])"
            ]
          },
          "metadata": {},
          "execution_count": 22
        }
      ]
    },
    {
      "cell_type": "code",
      "source": [
        "rand_vec.shape"
      ],
      "metadata": {
        "colab": {
          "base_uri": "https://localhost:8080/"
        },
        "id": "W9Ge0zMbzWQf",
        "outputId": "7b3d13d4-ccf7-4d58-81cc-d1a040137c3c"
      },
      "execution_count": null,
      "outputs": [
        {
          "output_type": "execute_result",
          "data": {
            "text/plain": [
              "torch.Size([4])"
            ]
          },
          "metadata": {},
          "execution_count": 23
        }
      ]
    },
    {
      "cell_type": "code",
      "source": [
        "rand_vec.ndim"
      ],
      "metadata": {
        "colab": {
          "base_uri": "https://localhost:8080/"
        },
        "id": "YBVxYfnTzZf3",
        "outputId": "4ee62f07-06ac-4fda-e23d-f04e18a994bb"
      },
      "execution_count": null,
      "outputs": [
        {
          "output_type": "execute_result",
          "data": {
            "text/plain": [
              "1"
            ]
          },
          "metadata": {},
          "execution_count": 24
        }
      ]
    },
    {
      "cell_type": "code",
      "source": [
        "rand_vec[0].item()"
      ],
      "metadata": {
        "colab": {
          "base_uri": "https://localhost:8080/"
        },
        "id": "emhrZwN-zbm7",
        "outputId": "ba49e082-7cbc-47d9-c805-cfe3798d0861"
      },
      "execution_count": null,
      "outputs": [
        {
          "output_type": "execute_result",
          "data": {
            "text/plain": [
              "0.48324382305145264"
            ]
          },
          "metadata": {},
          "execution_count": 25
        }
      ]
    },
    {
      "cell_type": "code",
      "source": [
        "rand_vec[:2]"
      ],
      "metadata": {
        "colab": {
          "base_uri": "https://localhost:8080/"
        },
        "id": "LmlN-c6ezd_z",
        "outputId": "798d56ad-fe97-48ec-d825-e3dd7f54be59"
      },
      "execution_count": null,
      "outputs": [
        {
          "output_type": "execute_result",
          "data": {
            "text/plain": [
              "tensor([0.4832, 0.8734])"
            ]
          },
          "metadata": {},
          "execution_count": 26
        }
      ]
    },
    {
      "cell_type": "code",
      "source": [
        "# rand -> 2d Matrix\n",
        "\n",
        "rand_2d = torch.rand(2,4)# row , columns\n",
        "rand_2d"
      ],
      "metadata": {
        "colab": {
          "base_uri": "https://localhost:8080/"
        },
        "id": "YhWTryerzsXe",
        "outputId": "4f2a215c-58af-4389-aee2-00e18712896b"
      },
      "execution_count": null,
      "outputs": [
        {
          "output_type": "execute_result",
          "data": {
            "text/plain": [
              "tensor([[0.4791, 0.0185, 0.1557, 0.1132],\n",
              "        [0.8993, 0.9560, 0.5576, 0.6711]])"
            ]
          },
          "metadata": {},
          "execution_count": 27
        }
      ]
    },
    {
      "cell_type": "code",
      "source": [
        "rand_2d.ndim"
      ],
      "metadata": {
        "colab": {
          "base_uri": "https://localhost:8080/"
        },
        "id": "BKgr2unjz-e2",
        "outputId": "5ff2dfad-88e0-4c67-dd66-41968fe23235"
      },
      "execution_count": null,
      "outputs": [
        {
          "output_type": "execute_result",
          "data": {
            "text/plain": [
              "2"
            ]
          },
          "metadata": {},
          "execution_count": 28
        }
      ]
    },
    {
      "cell_type": "code",
      "source": [
        "rand_2d.shape"
      ],
      "metadata": {
        "colab": {
          "base_uri": "https://localhost:8080/"
        },
        "id": "VlJDIdWN0AaO",
        "outputId": "066c427c-d233-4b81-f431-b628b3b1bf02"
      },
      "execution_count": null,
      "outputs": [
        {
          "output_type": "execute_result",
          "data": {
            "text/plain": [
              "torch.Size([2, 4])"
            ]
          },
          "metadata": {},
          "execution_count": 29
        }
      ]
    },
    {
      "cell_type": "code",
      "source": [
        "# rand -> Tensor\n",
        "\n",
        "rand_tensor = torch.rand(3,10,10) # First batch(depth),row,columns\n",
        "rand_tensor"
      ],
      "metadata": {
        "colab": {
          "base_uri": "https://localhost:8080/"
        },
        "id": "uX9kI9SP0FFn",
        "outputId": "7300ef09-6a15-4eaa-e281-e7063943946c"
      },
      "execution_count": null,
      "outputs": [
        {
          "output_type": "execute_result",
          "data": {
            "text/plain": [
              "tensor([[[5.5583e-01, 3.7058e-01, 8.2999e-01, 9.3422e-01, 7.8888e-01,\n",
              "          7.1449e-01, 5.7179e-01, 2.3550e-01, 9.1705e-01, 4.5134e-01],\n",
              "         [7.5112e-01, 8.0245e-01, 1.1760e-01, 5.6989e-01, 9.0231e-01,\n",
              "          5.6045e-02, 2.4845e-01, 4.1911e-01, 2.2052e-02, 2.0156e-01],\n",
              "         [5.4531e-01, 5.5785e-01, 3.5210e-01, 1.7263e-01, 4.9177e-02,\n",
              "          5.7727e-01, 2.1312e-01, 4.1754e-01, 6.4976e-01, 6.1468e-01],\n",
              "         [9.4415e-01, 5.7723e-01, 5.7319e-01, 8.6858e-02, 5.8885e-01,\n",
              "          8.5648e-01, 3.2462e-01, 1.9983e-01, 1.4743e-01, 6.8566e-01],\n",
              "         [4.7387e-01, 5.9352e-01, 2.1941e-02, 2.5439e-01, 3.4751e-01,\n",
              "          9.2395e-01, 9.2587e-01, 5.1130e-01, 5.2133e-01, 2.3540e-02],\n",
              "         [8.2765e-01, 4.7804e-01, 4.1409e-01, 8.0687e-01, 8.5753e-01,\n",
              "          4.0410e-01, 8.5524e-01, 4.8067e-01, 5.2456e-01, 9.4196e-01],\n",
              "         [4.2215e-01, 4.3116e-01, 4.9989e-01, 1.8930e-02, 8.2842e-01,\n",
              "          1.9679e-01, 7.4955e-02, 9.8762e-01, 3.6481e-01, 9.9569e-01],\n",
              "         [8.0905e-01, 5.7673e-01, 4.7257e-02, 5.9006e-01, 9.8207e-01,\n",
              "          9.5134e-01, 3.0557e-01, 4.7419e-02, 6.4033e-01, 5.8929e-01],\n",
              "         [1.2727e-01, 6.1572e-01, 3.8755e-01, 6.2275e-01, 6.9414e-01,\n",
              "          4.5537e-01, 5.5907e-01, 4.6685e-01, 1.9873e-01, 6.1192e-01],\n",
              "         [3.8330e-01, 9.3345e-01, 6.3802e-01, 5.9819e-01, 8.2083e-01,\n",
              "          3.9388e-02, 2.9360e-01, 9.8888e-03, 2.6542e-01, 6.0254e-01]],\n",
              "\n",
              "        [[4.8085e-01, 2.7920e-01, 2.2523e-01, 4.3659e-01, 3.1831e-01,\n",
              "          2.8770e-01, 3.9421e-01, 2.1758e-01, 6.8903e-01, 8.3394e-01],\n",
              "         [8.4581e-01, 5.3363e-01, 5.2494e-04, 7.7158e-01, 9.1434e-02,\n",
              "          8.6824e-01, 1.5926e-01, 7.5684e-01, 4.7592e-01, 9.1813e-01],\n",
              "         [3.1362e-01, 8.1795e-01, 1.6127e-02, 8.3735e-01, 9.4758e-01,\n",
              "          6.1771e-01, 8.2314e-01, 5.5375e-01, 3.0751e-01, 2.4128e-01],\n",
              "         [9.4275e-01, 3.1457e-01, 6.5088e-01, 5.1341e-01, 3.8922e-01,\n",
              "          6.8739e-01, 4.2649e-01, 8.9989e-01, 4.8262e-01, 6.1297e-01],\n",
              "         [3.7065e-01, 5.6820e-01, 1.9073e-01, 8.3901e-01, 8.9516e-01,\n",
              "          2.3934e-01, 4.1396e-01, 3.3107e-01, 8.8482e-01, 3.6787e-01],\n",
              "         [1.7112e-02, 6.1569e-01, 9.1923e-01, 7.4304e-01, 2.9231e-01,\n",
              "          3.2256e-01, 3.8794e-01, 9.2388e-01, 4.9450e-01, 1.4314e-01],\n",
              "         [1.0729e-01, 7.1665e-01, 4.5061e-01, 2.8336e-02, 1.8753e-01,\n",
              "          9.0966e-01, 6.4160e-01, 6.1996e-01, 8.6642e-01, 1.2135e-01],\n",
              "         [5.4615e-01, 1.1801e-01, 3.5278e-01, 7.2321e-01, 1.9039e-01,\n",
              "          5.0366e-01, 9.0293e-03, 3.4503e-01, 7.9398e-01, 4.4759e-01],\n",
              "         [8.3188e-01, 2.8426e-01, 5.9930e-01, 4.8804e-01, 6.2133e-01,\n",
              "          2.9274e-01, 1.2761e-01, 8.1399e-01, 1.3217e-01, 7.3536e-01],\n",
              "         [4.7338e-01, 4.9693e-01, 9.6076e-03, 2.9677e-01, 1.9161e-01,\n",
              "          8.0272e-01, 2.9436e-01, 8.2386e-01, 6.8487e-01, 3.6857e-01]],\n",
              "\n",
              "        [[5.7405e-01, 8.5508e-01, 4.3716e-01, 9.9498e-01, 9.0083e-01,\n",
              "          1.7334e-01, 9.1523e-01, 1.4900e-01, 1.4030e-01, 5.0379e-01],\n",
              "         [8.1917e-01, 9.1952e-01, 8.6513e-03, 8.9208e-01, 8.9083e-01,\n",
              "          6.5081e-01, 2.7236e-01, 1.6642e-02, 9.0129e-01, 2.0365e-01],\n",
              "         [9.4832e-01, 4.3196e-01, 6.3170e-01, 9.5701e-01, 1.0271e-01,\n",
              "          1.2911e-01, 3.6441e-01, 6.8220e-01, 5.6605e-01, 7.3604e-01],\n",
              "         [2.8478e-01, 7.3975e-01, 8.8145e-01, 7.2432e-01, 3.8789e-01,\n",
              "          3.2475e-01, 3.2746e-01, 5.6026e-01, 6.3863e-01, 1.1476e-01],\n",
              "         [6.9741e-01, 4.9967e-01, 3.8515e-01, 1.3772e-01, 7.5741e-01,\n",
              "          4.8513e-01, 9.3822e-01, 2.9332e-01, 9.9394e-01, 7.2646e-01],\n",
              "         [3.5276e-01, 3.1333e-01, 3.0298e-02, 6.0872e-02, 5.3629e-01,\n",
              "          9.3300e-01, 1.0563e-01, 8.5715e-01, 1.3835e-01, 9.2772e-01],\n",
              "         [4.4366e-01, 1.6151e-01, 7.1200e-01, 9.8034e-01, 9.0917e-01,\n",
              "          7.9479e-02, 6.0397e-01, 1.9107e-01, 6.7030e-01, 6.9179e-01],\n",
              "         [5.1796e-01, 5.9678e-02, 9.7832e-01, 5.0363e-02, 7.2228e-01,\n",
              "          9.8585e-01, 8.0097e-01, 9.9320e-01, 6.2670e-01, 4.1175e-01],\n",
              "         [7.0295e-01, 2.1018e-01, 1.7215e-01, 6.3446e-01, 6.8317e-01,\n",
              "          2.0178e-02, 3.9441e-01, 1.3658e-01, 8.5659e-01, 8.4915e-01],\n",
              "         [6.8979e-01, 7.4441e-01, 5.6831e-01, 1.5904e-01, 8.9894e-01,\n",
              "          2.3321e-01, 8.6929e-01, 5.8053e-01, 1.5854e-01, 6.9855e-01]]])"
            ]
          },
          "metadata": {},
          "execution_count": 30
        }
      ]
    },
    {
      "cell_type": "code",
      "source": [
        "rand_tensor.ndim"
      ],
      "metadata": {
        "colab": {
          "base_uri": "https://localhost:8080/"
        },
        "id": "Crlvo-pY0NFQ",
        "outputId": "07f62155-6761-4522-e8bc-79e2eafad80a"
      },
      "execution_count": null,
      "outputs": [
        {
          "output_type": "execute_result",
          "data": {
            "text/plain": [
              "3"
            ]
          },
          "metadata": {},
          "execution_count": 31
        }
      ]
    },
    {
      "cell_type": "markdown",
      "source": [
        "### image tensor\n",
        "\n",
        "![Image](https://raw.githubusercontent.com/mrdbourke/pytorch-deep-learning/main/images/00-tensor-shape-example-of-image.png)"
      ],
      "metadata": {
        "id": "72klXwBIKdzY"
      }
    },
    {
      "cell_type": "code",
      "source": [
        "image_size_tensor = torch.rand(size=(3,224,224))\n",
        "image_size_tensor.ndim , image_size_tensor.shape"
      ],
      "metadata": {
        "colab": {
          "base_uri": "https://localhost:8080/"
        },
        "id": "2CFUi-hO01rk",
        "outputId": "fa5e4de1-15f6-42a1-b078-4b73468404d7"
      },
      "execution_count": null,
      "outputs": [
        {
          "output_type": "execute_result",
          "data": {
            "text/plain": [
              "(3, torch.Size([3, 224, 224]))"
            ]
          },
          "metadata": {},
          "execution_count": 32
        }
      ]
    },
    {
      "cell_type": "code",
      "source": [
        "image_size_tensor"
      ],
      "metadata": {
        "colab": {
          "base_uri": "https://localhost:8080/"
        },
        "id": "g-PF9vsc2kkU",
        "outputId": "d2027c07-2daf-4a9d-de58-143133b222d3"
      },
      "execution_count": null,
      "outputs": [
        {
          "output_type": "execute_result",
          "data": {
            "text/plain": [
              "tensor([[[0.3355, 0.6978, 0.2332,  ..., 0.2796, 0.7424, 0.3246],\n",
              "         [0.8695, 0.7119, 0.7773,  ..., 0.8487, 0.3871, 0.3289],\n",
              "         [0.8266, 0.2342, 0.3991,  ..., 0.7914, 0.5434, 0.2587],\n",
              "         ...,\n",
              "         [0.5103, 0.5546, 0.9528,  ..., 0.6698, 0.3441, 0.2642],\n",
              "         [0.0495, 0.8356, 0.0963,  ..., 0.9327, 0.8370, 0.9722],\n",
              "         [0.0364, 0.2282, 0.1681,  ..., 0.6264, 0.7478, 0.6680]],\n",
              "\n",
              "        [[0.3047, 0.0864, 0.4510,  ..., 0.5406, 0.6851, 0.3380],\n",
              "         [0.5654, 0.0300, 0.2397,  ..., 0.5153, 0.3653, 0.5181],\n",
              "         [0.4064, 0.7492, 0.2162,  ..., 0.4784, 0.0668, 0.5747],\n",
              "         ...,\n",
              "         [0.6170, 0.0872, 0.5606,  ..., 0.2523, 0.4761, 0.4149],\n",
              "         [0.8952, 0.1572, 0.2871,  ..., 0.4842, 0.3423, 0.5497],\n",
              "         [0.0992, 0.7365, 0.8651,  ..., 0.4858, 0.3131, 0.4121]],\n",
              "\n",
              "        [[0.9164, 0.6412, 0.2533,  ..., 0.6774, 0.2462, 0.5345],\n",
              "         [0.3651, 0.9139, 0.0235,  ..., 0.9527, 0.1964, 0.7239],\n",
              "         [0.0370, 0.1090, 0.0442,  ..., 0.9598, 0.5404, 0.1766],\n",
              "         ...,\n",
              "         [0.1942, 0.3559, 0.5135,  ..., 0.4293, 0.6809, 0.1155],\n",
              "         [0.1051, 0.8331, 0.6997,  ..., 0.8173, 0.6511, 0.2918],\n",
              "         [0.5428, 0.1495, 0.8044,  ..., 0.2169, 0.6256, 0.3297]]])"
            ]
          },
          "metadata": {},
          "execution_count": 33
        }
      ]
    },
    {
      "cell_type": "code",
      "source": [
        "image_size_tensor / 255.0"
      ],
      "metadata": {
        "colab": {
          "base_uri": "https://localhost:8080/"
        },
        "id": "5xAFwDAi2Raq",
        "outputId": "b979aefa-cfd8-4417-ad9f-c90ca6f9af75"
      },
      "execution_count": null,
      "outputs": [
        {
          "output_type": "execute_result",
          "data": {
            "text/plain": [
              "tensor([[[1.3156e-03, 2.7367e-03, 9.1433e-04,  ..., 1.0963e-03,\n",
              "          2.9114e-03, 1.2731e-03],\n",
              "         [3.4099e-03, 2.7918e-03, 3.0483e-03,  ..., 3.3282e-03,\n",
              "          1.5182e-03, 1.2899e-03],\n",
              "         [3.2415e-03, 9.1849e-04, 1.5650e-03,  ..., 3.1036e-03,\n",
              "          2.1311e-03, 1.0144e-03],\n",
              "         ...,\n",
              "         [2.0010e-03, 2.1749e-03, 3.7363e-03,  ..., 2.6268e-03,\n",
              "          1.3494e-03, 1.0362e-03],\n",
              "         [1.9418e-04, 3.2768e-03, 3.7776e-04,  ..., 3.6575e-03,\n",
              "          3.2825e-03, 3.8126e-03],\n",
              "         [1.4263e-04, 8.9510e-04, 6.5929e-04,  ..., 2.4566e-03,\n",
              "          2.9326e-03, 2.6196e-03]],\n",
              "\n",
              "        [[1.1950e-03, 3.3874e-04, 1.7687e-03,  ..., 2.1199e-03,\n",
              "          2.6868e-03, 1.3253e-03],\n",
              "         [2.2174e-03, 1.1746e-04, 9.4008e-04,  ..., 2.0209e-03,\n",
              "          1.4327e-03, 2.0317e-03],\n",
              "         [1.5938e-03, 2.9380e-03, 8.4802e-04,  ..., 1.8762e-03,\n",
              "          2.6189e-04, 2.2536e-03],\n",
              "         ...,\n",
              "         [2.4197e-03, 3.4197e-04, 2.1983e-03,  ..., 9.8934e-04,\n",
              "          1.8672e-03, 1.6270e-03],\n",
              "         [3.5105e-03, 6.1646e-04, 1.1258e-03,  ..., 1.8990e-03,\n",
              "          1.3423e-03, 2.1558e-03],\n",
              "         [3.8900e-04, 2.8883e-03, 3.3925e-03,  ..., 1.9052e-03,\n",
              "          1.2278e-03, 1.6162e-03]],\n",
              "\n",
              "        [[3.5939e-03, 2.5145e-03, 9.9353e-04,  ..., 2.6565e-03,\n",
              "          9.6534e-04, 2.0963e-03],\n",
              "         [1.4319e-03, 3.5839e-03, 9.2039e-05,  ..., 3.7361e-03,\n",
              "          7.7021e-04, 2.8389e-03],\n",
              "         [1.4520e-04, 4.2747e-04, 1.7352e-04,  ..., 3.7641e-03,\n",
              "          2.1194e-03, 6.9268e-04],\n",
              "         ...,\n",
              "         [7.6152e-04, 1.3956e-03, 2.0138e-03,  ..., 1.6836e-03,\n",
              "          2.6702e-03, 4.5313e-04],\n",
              "         [4.1209e-04, 3.2671e-03, 2.7440e-03,  ..., 3.2052e-03,\n",
              "          2.5534e-03, 1.1444e-03],\n",
              "         [2.1285e-03, 5.8639e-04, 3.1544e-03,  ..., 8.5061e-04,\n",
              "          2.4535e-03, 1.2930e-03]]])"
            ]
          },
          "metadata": {},
          "execution_count": 34
        }
      ]
    },
    {
      "cell_type": "code",
      "source": [
        "# To display Tensors as Image\n",
        "from torchvision.transforms.functional import to_pil_image\n",
        "image = to_pil_image(image_size_tensor)\n",
        "plt.imshow(image)\n",
        "plt.axis('off')  # Turn off axis labels\n",
        "plt.show()"
      ],
      "metadata": {
        "colab": {
          "base_uri": "https://localhost:8080/",
          "height": 406
        },
        "id": "5W4KbjbN3LFW",
        "outputId": "02b53e2d-7080-4877-ff8b-57919701ec50"
      },
      "execution_count": null,
      "outputs": [
        {
          "output_type": "display_data",
          "data": {
            "text/plain": [
              "<Figure size 640x480 with 1 Axes>"
            ],
            "image/png": "[encoded data removed]"
          },
          "metadata": {}
        }
      ]
    },
    {
      "cell_type": "code",
      "source": [
        "without_size = torch.rand(3,3)\n",
        "without_size , without_size.shape , without_size.ndim"
      ],
      "metadata": {
        "colab": {
          "base_uri": "https://localhost:8080/"
        },
        "id": "_1zG4GN-6iKS",
        "outputId": "3909d8af-0226-4d0b-e259-840619a21aee"
      },
      "execution_count": null,
      "outputs": [
        {
          "output_type": "execute_result",
          "data": {
            "text/plain": [
              "(tensor([[0.6777, 0.0165, 0.2752],\n",
              "         [0.7047, 0.1602, 0.5332],\n",
              "         [0.1206, 0.9483, 0.2562]]),\n",
              " torch.Size([3, 3]),\n",
              " 2)"
            ]
          },
          "metadata": {},
          "execution_count": 36
        }
      ]
    },
    {
      "cell_type": "code",
      "source": [
        "with_size = torch.rand(size=(3,3))\n",
        "without_size , without_size.shape , without_size.ndim"
      ],
      "metadata": {
        "colab": {
          "base_uri": "https://localhost:8080/"
        },
        "id": "rYYRwuTBLSN9",
        "outputId": "92bf52b8-6066-4b5b-a246-a2e244d1573e"
      },
      "execution_count": null,
      "outputs": [
        {
          "output_type": "execute_result",
          "data": {
            "text/plain": [
              "(tensor([[0.6777, 0.0165, 0.2752],\n",
              "         [0.7047, 0.1602, 0.5332],\n",
              "         [0.1206, 0.9483, 0.2562]]),\n",
              " torch.Size([3, 3]),\n",
              " 2)"
            ]
          },
          "metadata": {},
          "execution_count": 37
        }
      ]
    },
    {
      "cell_type": "markdown",
      "source": [
        "### Zeros and Ones"
      ],
      "metadata": {
        "id": "OY1wxQ96MOue"
      }
    },
    {
      "cell_type": "code",
      "source": [
        "# Creating Zero's with Tensor\n",
        "\n",
        "zero_tensor = torch.zeros(size=(3,4))\n",
        "zero_tensor ,zero_tensor.ndim"
      ],
      "metadata": {
        "colab": {
          "base_uri": "https://localhost:8080/"
        },
        "id": "xJz42OokMY-j",
        "outputId": "0e1ca51a-00b9-41fe-bb9d-66432ac6eb02"
      },
      "execution_count": null,
      "outputs": [
        {
          "output_type": "execute_result",
          "data": {
            "text/plain": [
              "(tensor([[0., 0., 0., 0.],\n",
              "         [0., 0., 0., 0.],\n",
              "         [0., 0., 0., 0.]]),\n",
              " 2)"
            ]
          },
          "metadata": {},
          "execution_count": 38
        }
      ]
    },
    {
      "cell_type": "code",
      "source": [
        "# Creating One's with Tensor\n",
        "\n",
        "one_tensor = torch.ones(size=(1,3,4))\n",
        "one_tensor , one_tensor.ndim"
      ],
      "metadata": {
        "colab": {
          "base_uri": "https://localhost:8080/"
        },
        "id": "0UnMqJ6NMr6E",
        "outputId": "27521d57-b267-4030-ffba-4572545213a4"
      },
      "execution_count": null,
      "outputs": [
        {
          "output_type": "execute_result",
          "data": {
            "text/plain": [
              "(tensor([[[1., 1., 1., 1.],\n",
              "          [1., 1., 1., 1.],\n",
              "          [1., 1., 1., 1.]]]),\n",
              " 3)"
            ]
          },
          "metadata": {},
          "execution_count": 39
        }
      ]
    },
    {
      "cell_type": "markdown",
      "source": [
        "### Creating Range of tensors using range()"
      ],
      "metadata": {
        "id": "Gn7vKZ_1NOzN"
      }
    },
    {
      "cell_type": "code",
      "source": [
        "range_tensor  = torch.range(0,10)\n",
        "range_tensor , range_tensor.ndim , range_tensor.shape , range_tensor.dtype"
      ],
      "metadata": {
        "colab": {
          "base_uri": "https://localhost:8080/"
        },
        "id": "NiHaEZv-NTkF",
        "outputId": "b5742bf5-c441-44fd-9f09-86bd22b8f4b6"
      },
      "execution_count": null,
      "outputs": [
        {
          "output_type": "stream",
          "name": "stderr",
          "text": [
            "<ipython-input-40-b92b0e417e5a>:1: UserWarning: torch.range is deprecated and will be removed in a future release because its behavior is inconsistent with Python's range builtin. Instead, use torch.arange, which produces values in [start, end).\n",
            "  range_tensor  = torch.range(0,10)\n"
          ]
        },
        {
          "output_type": "execute_result",
          "data": {
            "text/plain": [
              "(tensor([ 0.,  1.,  2.,  3.,  4.,  5.,  6.,  7.,  8.,  9., 10.]),\n",
              " 1,\n",
              " torch.Size([11]),\n",
              " torch.float32)"
            ]
          },
          "metadata": {},
          "execution_count": 40
        }
      ]
    },
    {
      "cell_type": "code",
      "source": [
        "arange_tensor = torch.arange(0,10)\n",
        "arange_tensor , arange_tensor.ndim , arange_tensor.shape , arange_tensor.dtype"
      ],
      "metadata": {
        "colab": {
          "base_uri": "https://localhost:8080/"
        },
        "id": "hCa6psXgOQNo",
        "outputId": "45a45ef3-9792-4418-b9b2-ac5917d8488b"
      },
      "execution_count": null,
      "outputs": [
        {
          "output_type": "execute_result",
          "data": {
            "text/plain": [
              "(tensor([0, 1, 2, 3, 4, 5, 6, 7, 8, 9]), 1, torch.Size([10]), torch.int64)"
            ]
          },
          "metadata": {},
          "execution_count": 41
        }
      ]
    },
    {
      "cell_type": "code",
      "source": [
        "torch.arange(start=0,end=10,step=2, dtype=torch.int32)"
      ],
      "metadata": {
        "colab": {
          "base_uri": "https://localhost:8080/"
        },
        "id": "G5ee6f8xOzch",
        "outputId": "323ade5f-6e89-43b7-850f-a713d842edca"
      },
      "execution_count": null,
      "outputs": [
        {
          "output_type": "execute_result",
          "data": {
            "text/plain": [
              "tensor([0, 2, 4, 6, 8], dtype=torch.int32)"
            ]
          },
          "metadata": {},
          "execution_count": 42
        }
      ]
    },
    {
      "cell_type": "code",
      "source": [
        "# if use range you will get deprecated message\n",
        "torch.range(start=0,end=10,step=2, dtype=torch.int32)"
      ],
      "metadata": {
        "colab": {
          "base_uri": "https://localhost:8080/"
        },
        "id": "DiONgqanZqQ6",
        "outputId": "d1e983b5-5c26-49a9-deec-9fcd8452dcee"
      },
      "execution_count": null,
      "outputs": [
        {
          "output_type": "stream",
          "name": "stderr",
          "text": [
            "<ipython-input-43-e30e6b7cf702>:2: UserWarning: torch.range is deprecated and will be removed in a future release because its behavior is inconsistent with Python's range builtin. Instead, use torch.arange, which produces values in [start, end).\n",
            "  torch.range(start=0,end=10,step=2, dtype=torch.int32)\n"
          ]
        },
        {
          "output_type": "execute_result",
          "data": {
            "text/plain": [
              "tensor([ 0,  2,  4,  6,  8, 10], dtype=torch.int32)"
            ]
          },
          "metadata": {},
          "execution_count": 43
        }
      ]
    },
    {
      "cell_type": "markdown",
      "source": [
        "### Tensor Datatypes"
      ],
      "metadata": {
        "id": "hCe9DDq7lhZz"
      }
    },
    {
      "cell_type": "code",
      "source": [
        "float_32_tensor = torch.tensor([2.0,3.0,1.0],dtype=None , device = 'cpu' or 'cuda')"
      ],
      "metadata": {
        "id": "XLfDFVVinC5r"
      },
      "execution_count": null,
      "outputs": []
    },
    {
      "cell_type": "code",
      "source": [
        "float_32_tensor.dtype"
      ],
      "metadata": {
        "colab": {
          "base_uri": "https://localhost:8080/"
        },
        "id": "53QML0ATnGcR",
        "outputId": "53047280-4f0c-4c47-c1ec-3a0b2192f1dd"
      },
      "execution_count": null,
      "outputs": [
        {
          "output_type": "execute_result",
          "data": {
            "text/plain": [
              "torch.float32"
            ]
          },
          "metadata": {},
          "execution_count": 45
        }
      ]
    },
    {
      "cell_type": "code",
      "source": [
        "float_16_tensor = float_32_tensor.type(torch.half)\n",
        "float_16_tensor"
      ],
      "metadata": {
        "colab": {
          "base_uri": "https://localhost:8080/"
        },
        "id": "EpJKIzBznonE",
        "outputId": "0ae2b924-3958-4271-854a-d1ea19a9e806"
      },
      "execution_count": null,
      "outputs": [
        {
          "output_type": "execute_result",
          "data": {
            "text/plain": [
              "tensor([2., 3., 1.], dtype=torch.float16)"
            ]
          },
          "metadata": {},
          "execution_count": 46
        }
      ]
    },
    {
      "cell_type": "code",
      "source": [
        "float_32_tensor*float_16_tensor"
      ],
      "metadata": {
        "colab": {
          "base_uri": "https://localhost:8080/"
        },
        "id": "YKHIjly9nvBj",
        "outputId": "a0af4d5b-353a-42d0-e81a-cf525faae7c3"
      },
      "execution_count": null,
      "outputs": [
        {
          "output_type": "execute_result",
          "data": {
            "text/plain": [
              "tensor([4., 9., 1.])"
            ]
          },
          "metadata": {},
          "execution_count": 47
        }
      ]
    },
    {
      "cell_type": "code",
      "source": [
        "int_32_tensor = float_32_tensor.type(torch.long)\n",
        "print(int_32_tensor)"
      ],
      "metadata": {
        "colab": {
          "base_uri": "https://localhost:8080/"
        },
        "id": "BLxK8E86nyHy",
        "outputId": "bef648dd-3080-40d5-d3d5-11ae45662a11"
      },
      "execution_count": null,
      "outputs": [
        {
          "output_type": "stream",
          "name": "stdout",
          "text": [
            "tensor([2, 3, 1])\n"
          ]
        }
      ]
    },
    {
      "cell_type": "code",
      "source": [
        "float_32_tensor*int_32_tensor"
      ],
      "metadata": {
        "colab": {
          "base_uri": "https://localhost:8080/"
        },
        "id": "JuzjYr7PxzTx",
        "outputId": "72bb4476-7af4-4761-8af0-4ffec7f135ad"
      },
      "execution_count": null,
      "outputs": [
        {
          "output_type": "execute_result",
          "data": {
            "text/plain": [
              "tensor([4., 9., 1.])"
            ]
          },
          "metadata": {},
          "execution_count": 49
        }
      ]
    },
    {
      "cell_type": "code",
      "source": [
        "print(f\"Datatype of tensor:{int_32_tensor.dtype}\")\n",
        "print(f\"Shape of tensor:{int_32_tensor.shape}\")\n",
        "print(f\"Device of tensor: {int_32_tensor.device}\")\n"
      ],
      "metadata": {
        "colab": {
          "base_uri": "https://localhost:8080/"
        },
        "id": "ZvydEvJQyQG3",
        "outputId": "929b22a1-e1aa-4a5f-a219-a32c132fe120"
      },
      "execution_count": null,
      "outputs": [
        {
          "output_type": "stream",
          "name": "stdout",
          "text": [
            "Datatype of tensor:torch.int64\n",
            "Shape of tensor:torch.Size([3])\n",
            "Device of tensor: cpu\n"
          ]
        }
      ]
    },
    {
      "cell_type": "markdown",
      "source": [
        "### Tensors Opeartions\n",
        "\n",
        "* Addition\n",
        "* Subtraction\n",
        "* Multiplication(element-wise)\n",
        "* Divison\n",
        "* Matrix Multiplication\n"
      ],
      "metadata": {
        "id": "ipzGyCzWy3f_"
      }
    },
    {
      "cell_type": "code",
      "source": [
        "addtion_tensor_1 = torch.rand(size=(3,4)).type(torch.float32)\n",
        "addtion_tensor_1"
      ],
      "metadata": {
        "colab": {
          "base_uri": "https://localhost:8080/"
        },
        "id": "nVIjobZMy504",
        "outputId": "812798e8-051f-430a-e689-0560b082246d"
      },
      "execution_count": null,
      "outputs": [
        {
          "output_type": "execute_result",
          "data": {
            "text/plain": [
              "tensor([[0.0261, 0.4774, 0.2267, 0.0687],\n",
              "        [0.9590, 0.5949, 0.1313, 0.1576],\n",
              "        [0.8556, 0.0084, 0.3063, 0.1151]])"
            ]
          },
          "metadata": {},
          "execution_count": 51
        }
      ]
    },
    {
      "cell_type": "code",
      "source": [
        "addtion_tensor_2 = torch.rand(size=(3,4))\n",
        "addtion_tensor_2"
      ],
      "metadata": {
        "colab": {
          "base_uri": "https://localhost:8080/"
        },
        "id": "L_ikchEBzs6I",
        "outputId": "00bf6335-6c1d-41b7-db6d-bb974f1f18ca"
      },
      "execution_count": null,
      "outputs": [
        {
          "output_type": "execute_result",
          "data": {
            "text/plain": [
              "tensor([[0.3512, 0.7779, 0.3479, 0.3226],\n",
              "        [0.4384, 0.3554, 0.2417, 0.9167],\n",
              "        [0.5310, 0.1122, 0.7943, 0.2647]])"
            ]
          },
          "metadata": {},
          "execution_count": 52
        }
      ]
    },
    {
      "cell_type": "code",
      "source": [
        "addtion_result = addtion_tensor_1 + addtion_tensor_2\n",
        "addtion_result"
      ],
      "metadata": {
        "colab": {
          "base_uri": "https://localhost:8080/"
        },
        "id": "1d1_HotXzvag",
        "outputId": "6782cb5e-be50-4369-c1ac-6162f13f7657"
      },
      "execution_count": null,
      "outputs": [
        {
          "output_type": "execute_result",
          "data": {
            "text/plain": [
              "tensor([[0.3773, 1.2553, 0.5746, 0.3912],\n",
              "        [1.3975, 0.9502, 0.3730, 1.0744],\n",
              "        [1.3866, 0.1206, 1.1007, 0.3798]])"
            ]
          },
          "metadata": {},
          "execution_count": 53
        }
      ]
    },
    {
      "cell_type": "code",
      "source": [
        "sub_result = addtion_tensor_1 - addtion_tensor_2\n",
        "sub_result"
      ],
      "metadata": {
        "colab": {
          "base_uri": "https://localhost:8080/"
        },
        "id": "G0rDM0BLz0Cn",
        "outputId": "4a4db2c0-98fc-4fb9-c8b5-a1d3982c9ad4"
      },
      "execution_count": null,
      "outputs": [
        {
          "output_type": "execute_result",
          "data": {
            "text/plain": [
              "tensor([[-0.3251, -0.3005, -0.1211, -0.2539],\n",
              "        [ 0.5206,  0.2395, -0.1105, -0.7591],\n",
              "        [ 0.3247, -0.1038, -0.4880, -0.1496]])"
            ]
          },
          "metadata": {},
          "execution_count": 54
        }
      ]
    },
    {
      "cell_type": "code",
      "source": [
        "# Element-wise Mulitplication\n",
        "multi_result = addtion_tensor_1 * addtion_tensor_2\n",
        "multi_result"
      ],
      "metadata": {
        "colab": {
          "base_uri": "https://localhost:8080/"
        },
        "id": "8K-SQK36z5dV",
        "outputId": "d9d26396-8f63-4187-ad1c-747d776cbb39"
      },
      "execution_count": null,
      "outputs": [
        {
          "output_type": "execute_result",
          "data": {
            "text/plain": [
              "tensor([[0.0092, 0.3714, 0.0789, 0.0221],\n",
              "        [0.4205, 0.2114, 0.0317, 0.1445],\n",
              "        [0.4543, 0.0009, 0.2433, 0.0305]])"
            ]
          },
          "metadata": {},
          "execution_count": 55
        }
      ]
    },
    {
      "cell_type": "code",
      "source": [
        "divi_result = addtion_tensor_1 / addtion_tensor_2\n",
        "divi_result"
      ],
      "metadata": {
        "colab": {
          "base_uri": "https://localhost:8080/"
        },
        "id": "pZuUxzanz-c2",
        "outputId": "3d3c8f44-d545-42d1-ea29-8f9d4e17bac3"
      },
      "execution_count": null,
      "outputs": [
        {
          "output_type": "execute_result",
          "data": {
            "text/plain": [
              "tensor([[0.0743, 0.6137, 0.6518, 0.2128],\n",
              "        [2.1873, 1.6740, 0.5430, 0.1720],\n",
              "        [1.6115, 0.0748, 0.3857, 0.4349]])"
            ]
          },
          "metadata": {},
          "execution_count": 56
        }
      ]
    },
    {
      "cell_type": "code",
      "source": [
        "torch.tensor([1,2,3])+10"
      ],
      "metadata": {
        "colab": {
          "base_uri": "https://localhost:8080/"
        },
        "id": "pzkEmxDA8rnr",
        "outputId": "336489bb-7b2e-46ae-d235-c2053c8ee68f"
      },
      "execution_count": null,
      "outputs": [
        {
          "output_type": "execute_result",
          "data": {
            "text/plain": [
              "tensor([11, 12, 13])"
            ]
          },
          "metadata": {},
          "execution_count": 57
        }
      ]
    },
    {
      "cell_type": "code",
      "source": [
        "torch.tensor([1,2,3])-10"
      ],
      "metadata": {
        "colab": {
          "base_uri": "https://localhost:8080/"
        },
        "id": "ObPc31Ry9Ygj",
        "outputId": "67c968d4-d00d-4fd1-a623-d2fecac07f85"
      },
      "execution_count": null,
      "outputs": [
        {
          "output_type": "execute_result",
          "data": {
            "text/plain": [
              "tensor([-9, -8, -7])"
            ]
          },
          "metadata": {},
          "execution_count": 58
        }
      ]
    },
    {
      "cell_type": "code",
      "source": [
        "torch.tensor([1,2,3])*10"
      ],
      "metadata": {
        "colab": {
          "base_uri": "https://localhost:8080/"
        },
        "id": "4rlZpd5q9aKY",
        "outputId": "bb5164a7-a7f5-4eab-bc93-a4d348907be6"
      },
      "execution_count": null,
      "outputs": [
        {
          "output_type": "execute_result",
          "data": {
            "text/plain": [
              "tensor([10, 20, 30])"
            ]
          },
          "metadata": {},
          "execution_count": 59
        }
      ]
    },
    {
      "cell_type": "code",
      "source": [
        "torch.tensor([1,2,3])/10"
      ],
      "metadata": {
        "colab": {
          "base_uri": "https://localhost:8080/"
        },
        "id": "C-L9PLPu9bpR",
        "outputId": "2c6ede58-3a69-40d3-b354-e4e62a22fb3f"
      },
      "execution_count": null,
      "outputs": [
        {
          "output_type": "execute_result",
          "data": {
            "text/plain": [
              "tensor([0.1000, 0.2000, 0.3000])"
            ]
          },
          "metadata": {},
          "execution_count": 60
        }
      ]
    },
    {
      "cell_type": "code",
      "source": [
        "torch.mul(torch.tensor([1,2,3]),10)"
      ],
      "metadata": {
        "colab": {
          "base_uri": "https://localhost:8080/"
        },
        "id": "ydPTkxvR9c5Q",
        "outputId": "1c6d636c-2429-4664-c2d7-e2368483f3df"
      },
      "execution_count": null,
      "outputs": [
        {
          "output_type": "execute_result",
          "data": {
            "text/plain": [
              "tensor([10, 20, 30])"
            ]
          },
          "metadata": {},
          "execution_count": 61
        }
      ]
    },
    {
      "cell_type": "code",
      "source": [
        "torch.sub(torch.tensor([1,2,3]),10)"
      ],
      "metadata": {
        "colab": {
          "base_uri": "https://localhost:8080/"
        },
        "id": "xlwf-c_a9hKh",
        "outputId": "3aba080e-2bb7-4faf-a5b1-df54446e1b68"
      },
      "execution_count": null,
      "outputs": [
        {
          "output_type": "execute_result",
          "data": {
            "text/plain": [
              "tensor([-9, -8, -7])"
            ]
          },
          "metadata": {},
          "execution_count": 62
        }
      ]
    },
    {
      "cell_type": "code",
      "source": [
        "torch.div(torch.tensor([1,2,3]),10)"
      ],
      "metadata": {
        "colab": {
          "base_uri": "https://localhost:8080/"
        },
        "id": "xxRGx2VZ9jQa",
        "outputId": "a6a6c899-9986-4fd9-cca1-b2f9b68c3354"
      },
      "execution_count": null,
      "outputs": [
        {
          "output_type": "execute_result",
          "data": {
            "text/plain": [
              "tensor([0.1000, 0.2000, 0.3000])"
            ]
          },
          "metadata": {},
          "execution_count": 63
        }
      ]
    },
    {
      "cell_type": "code",
      "source": [
        "torch.add(torch.tensor([1,2,3]),10)"
      ],
      "metadata": {
        "colab": {
          "base_uri": "https://localhost:8080/"
        },
        "id": "5HU4P0W39m7v",
        "outputId": "ea07add2-1d30-4746-fee4-22017453e7fb"
      },
      "execution_count": null,
      "outputs": [
        {
          "output_type": "execute_result",
          "data": {
            "text/plain": [
              "tensor([11, 12, 13])"
            ]
          },
          "metadata": {},
          "execution_count": 64
        }
      ]
    },
    {
      "cell_type": "code",
      "source": [
        "addtion_tensor_1.shape"
      ],
      "metadata": {
        "colab": {
          "base_uri": "https://localhost:8080/"
        },
        "id": "nQmVEQbJB8Nk",
        "outputId": "3dbb7777-072e-4ee1-95d0-25a34540035d"
      },
      "execution_count": null,
      "outputs": [
        {
          "output_type": "execute_result",
          "data": {
            "text/plain": [
              "torch.Size([3, 4])"
            ]
          },
          "metadata": {},
          "execution_count": 65
        }
      ]
    },
    {
      "cell_type": "code",
      "source": [
        "torch.matmul(addtion_tensor_1,addtion_tensor_2)"
      ],
      "metadata": {
        "colab": {
          "base_uri": "https://localhost:8080/",
          "height": 141
        },
        "id": "4R6L7mK_BybK",
        "outputId": "a6bce3ca-fac1-4545-ca0a-910edb2bc473"
      },
      "execution_count": null,
      "outputs": [
        {
          "output_type": "error",
          "ename": "RuntimeError",
          "evalue": "mat1 and mat2 shapes cannot be multiplied (3x4 and 3x4)",
          "traceback": [
            "\u001b[0;31m---------------------------------------------------------------------------\u001b[0m",
            "\u001b[0;31mRuntimeError\u001b[0m                              Traceback (most recent call last)",
            "\u001b[0;32m<ipython-input-66-1d8e34b7cc01>\u001b[0m in \u001b[0;36m<cell line: 0>\u001b[0;34m()\u001b[0m\n\u001b[0;32m----> 1\u001b[0;31m \u001b[0mtorch\u001b[0m\u001b[0;34m.\u001b[0m\u001b[0mmatmul\u001b[0m\u001b[0;34m(\u001b[0m\u001b[0maddtion_tensor_1\u001b[0m\u001b[0;34m,\u001b[0m\u001b[0maddtion_tensor_2\u001b[0m\u001b[0;34m)\u001b[0m\u001b[0;34m\u001b[0m\u001b[0;34m\u001b[0m\u001b[0m\n\u001b[0m",
            "\u001b[0;31mRuntimeError\u001b[0m: mat1 and mat2 shapes cannot be multiplied (3x4 and 3x4)"
          ]
        }
      ]
    },
    {
      "cell_type": "code",
      "source": [
        "addtion_tensor_2 = addtion_tensor_2.reshape(4,3)"
      ],
      "metadata": {
        "id": "6l6yze9hB_Ns"
      },
      "execution_count": null,
      "outputs": []
    },
    {
      "cell_type": "markdown",
      "source": [
        "### Matrix multiplication\n",
        "\n",
        "2 Main Rules:\n",
        "\n",
        "---\n",
        "1 . **Inner dimension** must match\n",
        "* `(3,4) @ (3,4)` -> won't work\n",
        "* `(3,4) @ (4,3)` -> work\n",
        "* `(4,3) @ (3,4)` -> work\n",
        "---\n",
        "2. **Outer dimension**\n",
        "* `(2,3) @ (3,2)` -> (2,2)\n",
        "* `(3,2) @ (2,3)` -> (3,3)\n"
      ],
      "metadata": {
        "id": "knV0igm6Fai2"
      }
    },
    {
      "cell_type": "code",
      "source": [
        "matrix_mul = torch.matmul(addtion_tensor_1,addtion_tensor_2)\n",
        "print(matrix_mul)"
      ],
      "metadata": {
        "colab": {
          "base_uri": "https://localhost:8080/"
        },
        "id": "G46wrgNvCFgb",
        "outputId": "9ecf507b-1ebb-4aa1-d71a-2e1c32a19cb8"
      },
      "execution_count": null,
      "outputs": [
        {
          "output_type": "stream",
          "name": "stdout",
          "text": [
            "tensor([[0.2257, 0.4920, 0.3173],\n",
            "        [0.5782, 1.2524, 0.6564],\n",
            "        [0.3902, 1.0416, 0.4938]])\n"
          ]
        }
      ]
    },
    {
      "cell_type": "code",
      "source": [
        "%%time\n",
        "val = 0\n",
        "for i in range(len(addtion_tensor_1)):\n",
        "    val += addtion_tensor_1[i] * addtion_tensor_2[i]\n",
        "print(val)"
      ],
      "metadata": {
        "colab": {
          "base_uri": "https://localhost:8080/",
          "height": 124
        },
        "id": "DUmcdNRzCzi1",
        "outputId": "ed8ed853-f82e-48c7-df4c-f67dc0d200a3"
      },
      "execution_count": null,
      "outputs": [
        {
          "output_type": "error",
          "ename": "RuntimeError",
          "evalue": "The size of tensor a (4) must match the size of tensor b (3) at non-singleton dimension 0",
          "traceback": [
            "\u001b[0;31m---------------------------------------------------------------------------\u001b[0m",
            "\u001b[0;31mRuntimeError\u001b[0m                              Traceback (most recent call last)",
            "\u001b[0;32m<timed exec>\u001b[0m in \u001b[0;36m<module>\u001b[0;34m\u001b[0m\n",
            "\u001b[0;31mRuntimeError\u001b[0m: The size of tensor a (4) must match the size of tensor b (3) at non-singleton dimension 0"
          ]
        }
      ]
    },
    {
      "cell_type": "code",
      "source": [
        "%%time\n",
        "torch.matmul(addtion_tensor_1,addtion_tensor_2)"
      ],
      "metadata": {
        "colab": {
          "base_uri": "https://localhost:8080/"
        },
        "id": "FkgswbDBD63K",
        "outputId": "57bd1e2c-6815-4eb7-c295-a3924a9947bc"
      },
      "execution_count": null,
      "outputs": [
        {
          "output_type": "stream",
          "name": "stdout",
          "text": [
            "CPU times: user 82 µs, sys: 11 µs, total: 93 µs\n",
            "Wall time: 96.3 µs\n"
          ]
        },
        {
          "output_type": "execute_result",
          "data": {
            "text/plain": [
              "tensor([[0.2257, 0.4920, 0.3173],\n",
              "        [0.5782, 1.2524, 0.6564],\n",
              "        [0.3902, 1.0416, 0.4938]])"
            ]
          },
          "metadata": {},
          "execution_count": 70
        }
      ]
    },
    {
      "cell_type": "code",
      "source": [
        "addtion_tensor_1 @ addtion_tensor_2"
      ],
      "metadata": {
        "colab": {
          "base_uri": "https://localhost:8080/"
        },
        "id": "rV7dh8HwEcRI",
        "outputId": "8574dbea-0759-4def-c1e2-7c250fafd246"
      },
      "execution_count": null,
      "outputs": [
        {
          "output_type": "execute_result",
          "data": {
            "text/plain": [
              "tensor([[0.2257, 0.4920, 0.3173],\n",
              "        [0.5782, 1.2524, 0.6564],\n",
              "        [0.3902, 1.0416, 0.4938]])"
            ]
          },
          "metadata": {},
          "execution_count": 71
        }
      ]
    },
    {
      "cell_type": "code",
      "source": [
        "torch.rand(3,3) @ torch.rand(3,3)"
      ],
      "metadata": {
        "colab": {
          "base_uri": "https://localhost:8080/"
        },
        "id": "0QAOemF8HXW2",
        "outputId": "f313d7fc-8b3c-4f56-e953-b982b7309d15"
      },
      "execution_count": null,
      "outputs": [
        {
          "output_type": "execute_result",
          "data": {
            "text/plain": [
              "tensor([[0.5009, 0.7686, 0.9100],\n",
              "        [0.6096, 1.2443, 1.2309],\n",
              "        [0.4409, 0.8961, 0.7077]])"
            ]
          },
          "metadata": {},
          "execution_count": 72
        }
      ]
    },
    {
      "cell_type": "code",
      "source": [
        "tensor_1 = torch.tensor([[1,2],\n",
        "                        [3,4],\n",
        "                        [5,6]])\n",
        "tensor_2 = torch.tensor([[7,8],\n",
        "                        [9,10],\n",
        "                        [11,12]])"
      ],
      "metadata": {
        "id": "DWp8SVj6JF3u"
      },
      "execution_count": null,
      "outputs": []
    },
    {
      "cell_type": "code",
      "source": [
        "tensor_2.shape"
      ],
      "metadata": {
        "colab": {
          "base_uri": "https://localhost:8080/"
        },
        "id": "jf_sKNqvUTcB",
        "outputId": "fcb9c516-8b2d-4a03-e41e-5bb9ae9eb149"
      },
      "execution_count": null,
      "outputs": [
        {
          "output_type": "execute_result",
          "data": {
            "text/plain": [
              "torch.Size([3, 2])"
            ]
          },
          "metadata": {},
          "execution_count": 74
        }
      ]
    },
    {
      "cell_type": "code",
      "source": [
        "tensor_1.shape"
      ],
      "metadata": {
        "colab": {
          "base_uri": "https://localhost:8080/"
        },
        "id": "qElzLhzfU79m",
        "outputId": "273567a0-8bd9-497c-f144-a9199844ee37"
      },
      "execution_count": null,
      "outputs": [
        {
          "output_type": "execute_result",
          "data": {
            "text/plain": [
              "torch.Size([3, 2])"
            ]
          },
          "metadata": {},
          "execution_count": 75
        }
      ]
    },
    {
      "cell_type": "code",
      "source": [
        "torch.mm(tensor_1,tensor_2.T) # .T means Transpose of matrix or tensor"
      ],
      "metadata": {
        "colab": {
          "base_uri": "https://localhost:8080/"
        },
        "id": "y0ufjBXkUBC4",
        "outputId": "11c9e91b-1c98-40d7-e6df-8e91eabd8512"
      },
      "execution_count": null,
      "outputs": [
        {
          "output_type": "execute_result",
          "data": {
            "text/plain": [
              "tensor([[ 23,  29,  35],\n",
              "        [ 53,  67,  81],\n",
              "        [ 83, 105, 127]])"
            ]
          },
          "metadata": {},
          "execution_count": 76
        }
      ]
    },
    {
      "cell_type": "markdown",
      "source": [
        "### Find Min , Max , Sum , Mean , Median , Mode etc.."
      ],
      "metadata": {
        "id": "23tncHMrWb70"
      }
    },
    {
      "cell_type": "code",
      "source": [
        "torch.min(tensor_1) # Minimum"
      ],
      "metadata": {
        "colab": {
          "base_uri": "https://localhost:8080/"
        },
        "id": "V28B7QIDUPDR",
        "outputId": "3ab4b2b3-3f74-4af1-f01d-89134d4a9f00"
      },
      "execution_count": null,
      "outputs": [
        {
          "output_type": "execute_result",
          "data": {
            "text/plain": [
              "tensor(1)"
            ]
          },
          "metadata": {},
          "execution_count": 77
        }
      ]
    },
    {
      "cell_type": "code",
      "source": [
        "torch.max(tensor_1) # Maximum"
      ],
      "metadata": {
        "colab": {
          "base_uri": "https://localhost:8080/"
        },
        "id": "L8gDWW7GWvlj",
        "outputId": "890c5bc0-60eb-48fe-d18c-c1c31a4b675b"
      },
      "execution_count": null,
      "outputs": [
        {
          "output_type": "execute_result",
          "data": {
            "text/plain": [
              "tensor(6)"
            ]
          },
          "metadata": {},
          "execution_count": 78
        }
      ]
    },
    {
      "cell_type": "code",
      "source": [
        "%%time\n",
        "torch.sum(tensor_1) # Sum of tensor"
      ],
      "metadata": {
        "colab": {
          "base_uri": "https://localhost:8080/"
        },
        "id": "TJw6O7u6W1F6",
        "outputId": "64d6f3c7-c391-4cb9-ca8d-58b4392b00f6"
      },
      "execution_count": null,
      "outputs": [
        {
          "output_type": "stream",
          "name": "stdout",
          "text": [
            "CPU times: user 0 ns, sys: 541 µs, total: 541 µs\n",
            "Wall time: 446 µs\n"
          ]
        },
        {
          "output_type": "execute_result",
          "data": {
            "text/plain": [
              "tensor(21)"
            ]
          },
          "metadata": {},
          "execution_count": 79
        }
      ]
    },
    {
      "cell_type": "code",
      "source": [
        "torch.median(tensor_1) # Median of tensor"
      ],
      "metadata": {
        "colab": {
          "base_uri": "https://localhost:8080/"
        },
        "id": "R2QrPBR-W35q",
        "outputId": "fb266446-612c-446c-c480-d5f04f7a6df0"
      },
      "execution_count": null,
      "outputs": [
        {
          "output_type": "execute_result",
          "data": {
            "text/plain": [
              "tensor(3)"
            ]
          },
          "metadata": {},
          "execution_count": 80
        }
      ]
    },
    {
      "cell_type": "code",
      "source": [
        "torch.mean(tensor_1.type(torch.float32)) # Mean of tensor it only support float or complex dtype"
      ],
      "metadata": {
        "colab": {
          "base_uri": "https://localhost:8080/"
        },
        "id": "Rg0xv_S1XAW0",
        "outputId": "89f6237e-e9a7-4de1-d909-ea7db1bfb2b1"
      },
      "execution_count": null,
      "outputs": [
        {
          "output_type": "execute_result",
          "data": {
            "text/plain": [
              "tensor(3.5000)"
            ]
          },
          "metadata": {},
          "execution_count": 81
        }
      ]
    },
    {
      "cell_type": "code",
      "source": [
        "torch.mode(tensor_1) # Mode of tensor Repeated values and indices"
      ],
      "metadata": {
        "colab": {
          "base_uri": "https://localhost:8080/"
        },
        "id": "MnPIGs4cXDOX",
        "outputId": "7e061821-c778-4560-c13c-f849384378dd"
      },
      "execution_count": null,
      "outputs": [
        {
          "output_type": "execute_result",
          "data": {
            "text/plain": [
              "torch.return_types.mode(\n",
              "values=tensor([1, 3, 5]),\n",
              "indices=tensor([0, 0, 0]))"
            ]
          },
          "metadata": {},
          "execution_count": 82
        }
      ]
    },
    {
      "cell_type": "markdown",
      "source": [
        "### Finding positional Min and Max"
      ],
      "metadata": {
        "id": "eQa-S1eoXxZK"
      }
    },
    {
      "cell_type": "code",
      "source": [
        "torch.argmin(tensor_1) # Index of minimum value"
      ],
      "metadata": {
        "colab": {
          "base_uri": "https://localhost:8080/"
        },
        "id": "02ocP7DCXdHp",
        "outputId": "3980c7dd-03cd-49cb-d583-5f88e0bba092"
      },
      "execution_count": null,
      "outputs": [
        {
          "output_type": "execute_result",
          "data": {
            "text/plain": [
              "tensor(0)"
            ]
          },
          "metadata": {},
          "execution_count": 83
        }
      ]
    },
    {
      "cell_type": "code",
      "source": [
        "tensor_1[0]"
      ],
      "metadata": {
        "colab": {
          "base_uri": "https://localhost:8080/"
        },
        "id": "iFiW65xBX7SP",
        "outputId": "e2d2ed08-ff33-4aec-c440-5142e8c1846f"
      },
      "execution_count": null,
      "outputs": [
        {
          "output_type": "execute_result",
          "data": {
            "text/plain": [
              "tensor([1, 2])"
            ]
          },
          "metadata": {},
          "execution_count": 84
        }
      ]
    },
    {
      "cell_type": "code",
      "source": [
        "torch.argmax(tensor_1) # Index of maximum value"
      ],
      "metadata": {
        "colab": {
          "base_uri": "https://localhost:8080/"
        },
        "id": "mQDH6675YCHo",
        "outputId": "746d5caf-7f46-4224-8abf-7032c242bc31"
      },
      "execution_count": null,
      "outputs": [
        {
          "output_type": "execute_result",
          "data": {
            "text/plain": [
              "tensor(5)"
            ]
          },
          "metadata": {},
          "execution_count": 85
        }
      ]
    },
    {
      "cell_type": "code",
      "source": [
        "tensor_1"
      ],
      "metadata": {
        "colab": {
          "base_uri": "https://localhost:8080/"
        },
        "id": "tOgNb8zcYE7g",
        "outputId": "8974c29c-f701-4006-df79-c0fab0b94873"
      },
      "execution_count": null,
      "outputs": [
        {
          "output_type": "execute_result",
          "data": {
            "text/plain": [
              "tensor([[1, 2],\n",
              "        [3, 4],\n",
              "        [5, 6]])"
            ]
          },
          "metadata": {},
          "execution_count": 86
        }
      ]
    },
    {
      "cell_type": "code",
      "source": [
        "tensor_1[2,0]"
      ],
      "metadata": {
        "colab": {
          "base_uri": "https://localhost:8080/"
        },
        "id": "l4wA70eCYWrQ",
        "outputId": "7a3ddc84-f3d0-4635-e51b-f031e64daca5"
      },
      "execution_count": null,
      "outputs": [
        {
          "output_type": "execute_result",
          "data": {
            "text/plain": [
              "tensor(5)"
            ]
          },
          "metadata": {},
          "execution_count": 87
        }
      ]
    },
    {
      "cell_type": "markdown",
      "source": [
        "### Reshaping , stacking , squeezing , unsqueezing tensors\n",
        "\n",
        "* Reshaping- Reshapes the input tensor into defined shape\n",
        "* View - Return a view of input tensor of certain shape but keep the same memory as the original tensor\n",
        "* Stacking - combine multiple tensors on top of each other (vstack) or side by side (hstack)\n",
        "* Squeezing - Remove all `1` dimension from a tensor\n",
        "* Unsqueezing - add `1` dimension to a target tensor\n",
        "* Permute - Return a view of the input with dimensions permuted`(swapped)` in certain way"
      ],
      "metadata": {
        "id": "pQA0d2KU05S4"
      }
    },
    {
      "cell_type": "code",
      "source": [
        "x = torch.range(1,10)\n",
        "x , x.shape"
      ],
      "metadata": {
        "colab": {
          "base_uri": "https://localhost:8080/"
        },
        "id": "_KBI1A_N0Dhk",
        "outputId": "8ae022b7-2ab9-4848-f84b-0a7c4195c67c"
      },
      "execution_count": null,
      "outputs": [
        {
          "output_type": "stream",
          "name": "stderr",
          "text": [
            "<ipython-input-248-cb1f8a1678d2>:1: UserWarning: torch.range is deprecated and will be removed in a future release because its behavior is inconsistent with Python's range builtin. Instead, use torch.arange, which produces values in [start, end).\n",
            "  x = torch.range(1,10)\n"
          ]
        },
        {
          "output_type": "execute_result",
          "data": {
            "text/plain": [
              "(tensor([ 1.,  2.,  3.,  4.,  5.,  6.,  7.,  8.,  9., 10.]), torch.Size([10]))"
            ]
          },
          "metadata": {},
          "execution_count": 248
        }
      ]
    },
    {
      "cell_type": "code",
      "source": [
        "x.shape , x.reshape(2,5)"
      ],
      "metadata": {
        "colab": {
          "base_uri": "https://localhost:8080/"
        },
        "id": "3QTdBLxh5Geo",
        "outputId": "62c1ea2c-8008-42fc-b85e-d92adfb976b1"
      },
      "execution_count": null,
      "outputs": [
        {
          "output_type": "execute_result",
          "data": {
            "text/plain": [
              "(torch.Size([10]),\n",
              " tensor([[ 1.,  2.,  3.,  4.,  5.],\n",
              "         [ 6.,  7.,  8.,  9., 10.]]))"
            ]
          },
          "metadata": {},
          "execution_count": 249
        }
      ]
    },
    {
      "cell_type": "code",
      "source": [
        "z = x.view(5,2)\n",
        "z ,z.shape"
      ],
      "metadata": {
        "colab": {
          "base_uri": "https://localhost:8080/"
        },
        "id": "Qcou78tw5z9k",
        "outputId": "810124d0-f9cc-45e2-f37b-eafc115bea31"
      },
      "execution_count": null,
      "outputs": [
        {
          "output_type": "execute_result",
          "data": {
            "text/plain": [
              "(tensor([[ 1.,  2.],\n",
              "         [ 3.,  4.],\n",
              "         [ 5.,  6.],\n",
              "         [ 7.,  8.],\n",
              "         [ 9., 10.]]),\n",
              " torch.Size([5, 2]))"
            ]
          },
          "metadata": {},
          "execution_count": 250
        }
      ]
    },
    {
      "cell_type": "code",
      "source": [
        "z[:, 1] = 5 # Select all rows and select column 1 and change all values as 5\n",
        "z"
      ],
      "metadata": {
        "colab": {
          "base_uri": "https://localhost:8080/"
        },
        "id": "bliBXMeE52P4",
        "outputId": "38a8ba8f-c36b-4243-b118-e3f2f5c76df9"
      },
      "execution_count": null,
      "outputs": [
        {
          "output_type": "execute_result",
          "data": {
            "text/plain": [
              "tensor([[1., 5.],\n",
              "        [3., 5.],\n",
              "        [5., 5.],\n",
              "        [7., 5.],\n",
              "        [9., 5.]])"
            ]
          },
          "metadata": {},
          "execution_count": 251
        }
      ]
    },
    {
      "cell_type": "code",
      "source": [
        "y = torch.rand(3,3)\n",
        "y.ndim"
      ],
      "metadata": {
        "colab": {
          "base_uri": "https://localhost:8080/"
        },
        "id": "3gZPt7ag9l4O",
        "outputId": "838b2473-6396-4130-91fe-ae51b6640b75"
      },
      "execution_count": null,
      "outputs": [
        {
          "output_type": "execute_result",
          "data": {
            "text/plain": [
              "2"
            ]
          },
          "metadata": {},
          "execution_count": 252
        }
      ]
    },
    {
      "cell_type": "code",
      "source": [
        "# Stacking\n",
        "x_stacked = torch.stack([y,y,y,y],dim=2)\n",
        "x_stacked\n"
      ],
      "metadata": {
        "colab": {
          "base_uri": "https://localhost:8080/"
        },
        "id": "fpDw4qgy8IX1",
        "outputId": "7b413eb4-7433-4d2c-f639-91388ff65f80"
      },
      "execution_count": null,
      "outputs": [
        {
          "output_type": "execute_result",
          "data": {
            "text/plain": [
              "tensor([[[0.3326, 0.3326, 0.3326, 0.3326],\n",
              "         [0.3074, 0.3074, 0.3074, 0.3074],\n",
              "         [0.6961, 0.6961, 0.6961, 0.6961]],\n",
              "\n",
              "        [[0.9137, 0.9137, 0.9137, 0.9137],\n",
              "         [0.7427, 0.7427, 0.7427, 0.7427],\n",
              "         [0.7454, 0.7454, 0.7454, 0.7454]],\n",
              "\n",
              "        [[0.0374, 0.0374, 0.0374, 0.0374],\n",
              "         [0.9841, 0.9841, 0.9841, 0.9841],\n",
              "         [0.9887, 0.9887, 0.9887, 0.9887]]])"
            ]
          },
          "metadata": {},
          "execution_count": 253
        }
      ]
    },
    {
      "cell_type": "code",
      "source": [
        "x_stacked.ndim"
      ],
      "metadata": {
        "colab": {
          "base_uri": "https://localhost:8080/"
        },
        "id": "v5fir04z9M-R",
        "outputId": "7394e92d-b01d-4819-bd0f-54c1ce2ede89"
      },
      "execution_count": null,
      "outputs": [
        {
          "output_type": "execute_result",
          "data": {
            "text/plain": [
              "3"
            ]
          },
          "metadata": {},
          "execution_count": 254
        }
      ]
    },
    {
      "cell_type": "code",
      "source": [
        " a = torch.tensor([[1],[2],[3]])\n",
        " b = torch.tensor([[4],[5],[6]])"
      ],
      "metadata": {
        "id": "ePguHjIg_cLi"
      },
      "execution_count": null,
      "outputs": []
    },
    {
      "cell_type": "code",
      "source": [
        "vstacked = torch.vstack((a,b))\n",
        "vstacked , vstacked.ndim"
      ],
      "metadata": {
        "colab": {
          "base_uri": "https://localhost:8080/"
        },
        "id": "-KHI5e8B9-Qr",
        "outputId": "ef4a8795-cc4b-46b9-8ebe-e7592d7e603b"
      },
      "execution_count": null,
      "outputs": [
        {
          "output_type": "execute_result",
          "data": {
            "text/plain": [
              "(tensor([[1],\n",
              "         [2],\n",
              "         [3],\n",
              "         [4],\n",
              "         [5],\n",
              "         [6]]),\n",
              " 2)"
            ]
          },
          "metadata": {},
          "execution_count": 256
        }
      ]
    },
    {
      "cell_type": "code",
      "source": [
        "hstacked = torch.hstack((a,b))\n",
        "hstacked , hstacked.ndim"
      ],
      "metadata": {
        "colab": {
          "base_uri": "https://localhost:8080/"
        },
        "id": "ZMpu7Wjr-h-L",
        "outputId": "636a9094-abdd-454e-f3c0-ef84a82d293a"
      },
      "execution_count": null,
      "outputs": [
        {
          "output_type": "execute_result",
          "data": {
            "text/plain": [
              "(tensor([[1, 4],\n",
              "         [2, 5],\n",
              "         [3, 6]]),\n",
              " 2)"
            ]
          },
          "metadata": {},
          "execution_count": 257
        }
      ]
    },
    {
      "cell_type": "code",
      "source": [
        "# Squeeze and Unsqueeze\n",
        "x = torch.arange(1.,10.)\n",
        "x , x.shape"
      ],
      "metadata": {
        "colab": {
          "base_uri": "https://localhost:8080/"
        },
        "id": "kQ37RObHCppt",
        "outputId": "85471470-958b-479a-f1ff-624a9f5f4291"
      },
      "execution_count": null,
      "outputs": [
        {
          "output_type": "execute_result",
          "data": {
            "text/plain": [
              "(tensor([1., 2., 3., 4., 5., 6., 7., 8., 9.]), torch.Size([9]))"
            ]
          },
          "metadata": {},
          "execution_count": 262
        }
      ]
    },
    {
      "cell_type": "code",
      "source": [
        "x_reshaped = x.reshape(1,9)\n",
        "x_reshaped.shape , x_reshaped"
      ],
      "metadata": {
        "colab": {
          "base_uri": "https://localhost:8080/"
        },
        "id": "eva810agEl9D",
        "outputId": "4e52e4b9-09cd-4398-b236-9dbea456f71f"
      },
      "execution_count": null,
      "outputs": [
        {
          "output_type": "execute_result",
          "data": {
            "text/plain": [
              "(torch.Size([1, 9]), tensor([[1., 2., 3., 4., 5., 6., 7., 8., 9.]]))"
            ]
          },
          "metadata": {},
          "execution_count": 263
        }
      ]
    },
    {
      "cell_type": "code",
      "source": [
        "torch.squeeze(x_reshaped) , torch.squeeze(x_reshaped).shape #torch.squeeze(input: Tensor, dim: Optional[Union[int, List[int]]]) → Tensor"
      ],
      "metadata": {
        "colab": {
          "base_uri": "https://localhost:8080/"
        },
        "id": "xcuIFxclEk9Y",
        "outputId": "4877b320-ce70-4b30-a84a-f5afdf90a31b"
      },
      "execution_count": null,
      "outputs": [
        {
          "output_type": "execute_result",
          "data": {
            "text/plain": [
              "(tensor([1., 2., 3., 4., 5., 6., 7., 8., 9.]), torch.Size([9]))"
            ]
          },
          "metadata": {},
          "execution_count": 264
        }
      ]
    },
    {
      "cell_type": "code",
      "source": [
        "torch.unsqueeze(x_reshaped , dim=0) , torch.unsqueeze(x_reshaped , dim=0).shape # torch.unsqueeze(input, dim) → Tensor"
      ],
      "metadata": {
        "colab": {
          "base_uri": "https://localhost:8080/"
        },
        "id": "q2IaA660EnZg",
        "outputId": "e93f8ff9-7bd4-4032-f0f8-721e04db46f7"
      },
      "execution_count": null,
      "outputs": [
        {
          "output_type": "execute_result",
          "data": {
            "text/plain": [
              "(tensor([[[1., 2., 3., 4., 5., 6., 7., 8., 9.]]]), torch.Size([1, 1, 9]))"
            ]
          },
          "metadata": {},
          "execution_count": 265
        }
      ]
    },
    {
      "cell_type": "code",
      "source": [
        "torch.cat((x_reshaped,x_reshaped,x_reshaped,x_reshaped) , dim = 0)"
      ],
      "metadata": {
        "colab": {
          "base_uri": "https://localhost:8080/"
        },
        "id": "wFISrnX_FNK0",
        "outputId": "8d044a43-86ce-4ab9-ad67-3e70aaca1a91"
      },
      "execution_count": null,
      "outputs": [
        {
          "output_type": "execute_result",
          "data": {
            "text/plain": [
              "tensor([[1., 2., 3., 4., 5., 6., 7., 8., 9.],\n",
              "        [1., 2., 3., 4., 5., 6., 7., 8., 9.],\n",
              "        [1., 2., 3., 4., 5., 6., 7., 8., 9.],\n",
              "        [1., 2., 3., 4., 5., 6., 7., 8., 9.]])"
            ]
          },
          "metadata": {},
          "execution_count": 271
        }
      ]
    },
    {
      "cell_type": "code",
      "source": [
        "torch.cat((x_reshaped,x_reshaped,x_reshaped,x_reshaped) , dim =1 )"
      ],
      "metadata": {
        "colab": {
          "base_uri": "https://localhost:8080/"
        },
        "id": "oYsfYA4dFPaa",
        "outputId": "e0864f88-73f1-4ceb-d404-dd42abc85fae"
      },
      "execution_count": null,
      "outputs": [
        {
          "output_type": "execute_result",
          "data": {
            "text/plain": [
              "tensor([[1., 2., 3., 4., 5., 6., 7., 8., 9., 1., 2., 3., 4., 5., 6., 7., 8., 9.,\n",
              "         1., 2., 3., 4., 5., 6., 7., 8., 9., 1., 2., 3., 4., 5., 6., 7., 8., 9.]])"
            ]
          },
          "metadata": {},
          "execution_count": 272
        }
      ]
    },
    {
      "cell_type": "code",
      "source": [
        "# torch.permute\n",
        "x_org = torch.rand(size=(224,224,3)) # 224->0 , 224->1 , 3->2\n",
        "x_org.shape"
      ],
      "metadata": {
        "colab": {
          "base_uri": "https://localhost:8080/"
        },
        "id": "vCDOr2TRGKOp",
        "outputId": "9c1743b7-1db4-4530-f60d-3fbecb950f9e"
      },
      "execution_count": null,
      "outputs": [
        {
          "output_type": "execute_result",
          "data": {
            "text/plain": [
              "torch.Size([224, 224, 3])"
            ]
          },
          "metadata": {},
          "execution_count": 294
        }
      ]
    },
    {
      "cell_type": "code",
      "source": [
        "x_permute = x_org.permute((2,0,1)) # torch.permute(input, dims) → Tensor indexing\n",
        "x_permute.shape"
      ],
      "metadata": {
        "colab": {
          "base_uri": "https://localhost:8080/"
        },
        "id": "mLJp77R9GMGb",
        "outputId": "ec49539f-d6ac-4f47-a9bd-73428003fb7c"
      },
      "execution_count": null,
      "outputs": [
        {
          "output_type": "execute_result",
          "data": {
            "text/plain": [
              "torch.Size([3, 224, 224])"
            ]
          },
          "metadata": {},
          "execution_count": 295
        }
      ]
    },
    {
      "cell_type": "code",
      "source": [
        "x_org[0,0,0] = 725852\n",
        "x_org[0,0,0]"
      ],
      "metadata": {
        "colab": {
          "base_uri": "https://localhost:8080/"
        },
        "id": "XH19I2OhHL8_",
        "outputId": "beaf60cc-d730-4381-b238-d3d1542ce165"
      },
      "execution_count": null,
      "outputs": [
        {
          "output_type": "execute_result",
          "data": {
            "text/plain": [
              "tensor(725852.)"
            ]
          },
          "metadata": {},
          "execution_count": 296
        }
      ]
    },
    {
      "cell_type": "code",
      "source": [
        "x_permute[0,0,0]"
      ],
      "metadata": {
        "colab": {
          "base_uri": "https://localhost:8080/"
        },
        "id": "vPn4iSA9HOnD",
        "outputId": "51873f2b-4a9b-43f2-ba20-fba22e8cf096"
      },
      "execution_count": null,
      "outputs": [
        {
          "output_type": "execute_result",
          "data": {
            "text/plain": [
              "tensor(725852.)"
            ]
          },
          "metadata": {},
          "execution_count": 297
        }
      ]
    },
    {
      "cell_type": "markdown",
      "source": [
        "### Convert Numpy array into tensor using `torch.as_tensor()` `torch.from_numpy()`\n",
        "### Convert tensor as Numpy array using `torch.Tensor.numpy() `,`numpy()`"
      ],
      "metadata": {
        "id": "thFYEa2yIXoK"
      }
    },
    {
      "cell_type": "code",
      "source": [
        "con = np.array([[1,2,3],[1,2,3]] , dtype='float64')"
      ],
      "metadata": {
        "id": "ldEFkcOsHjcn"
      },
      "execution_count": null,
      "outputs": []
    },
    {
      "cell_type": "code",
      "source": [
        "torch.as_tensor(con) # torch.as_tensor(data: Any, dtype: Optional[dtype] = None, device: Optional[DeviceLikeType]) → Tensor"
      ],
      "metadata": {
        "colab": {
          "base_uri": "https://localhost:8080/"
        },
        "id": "HVKKf2E0IDka",
        "outputId": "969ef6fe-c6b3-4c49-b594-d623ba39813d"
      },
      "execution_count": null,
      "outputs": [
        {
          "output_type": "execute_result",
          "data": {
            "text/plain": [
              "tensor([[1., 2., 3.],\n",
              "        [1., 2., 3.]], dtype=torch.float64)"
            ]
          },
          "metadata": {},
          "execution_count": 362
        }
      ]
    },
    {
      "cell_type": "code",
      "source": [
        "ten = torch.from_numpy(con).type(torch.float32) # torch.from_numpy(ndarray) → Tensor\n",
        "ten"
      ],
      "metadata": {
        "colab": {
          "base_uri": "https://localhost:8080/"
        },
        "id": "g40s2ao5UL0s",
        "outputId": "41f1e798-11da-4a67-8e3c-0da9bccfcea9"
      },
      "execution_count": null,
      "outputs": [
        {
          "output_type": "execute_result",
          "data": {
            "text/plain": [
              "tensor([[1., 2., 3.],\n",
              "        [1., 2., 3.]])"
            ]
          },
          "metadata": {},
          "execution_count": 371
        }
      ]
    },
    {
      "cell_type": "code",
      "source": [
        "torch.Tensor.numpy(ten) # Tensor.numpy(*, force=False) → numpy.ndarray"
      ],
      "metadata": {
        "colab": {
          "base_uri": "https://localhost:8080/"
        },
        "id": "dBOVqtETUNz9",
        "outputId": "f79260d1-19b5-485f-e84e-e01be3b015b5"
      },
      "execution_count": null,
      "outputs": [
        {
          "output_type": "execute_result",
          "data": {
            "text/plain": [
              "array([[1., 2., 3.],\n",
              "       [1., 2., 3.]], dtype=float32)"
            ]
          },
          "metadata": {},
          "execution_count": 372
        }
      ]
    },
    {
      "cell_type": "code",
      "source": [
        "ten.numpy()"
      ],
      "metadata": {
        "colab": {
          "base_uri": "https://localhost:8080/"
        },
        "id": "0VJjCHCDWrEr",
        "outputId": "524e273f-4760-42c4-b34e-36e48780d534"
      },
      "execution_count": null,
      "outputs": [
        {
          "output_type": "execute_result",
          "data": {
            "text/plain": [
              "array([[1., 2., 3.],\n",
              "       [1., 2., 3.]], dtype=float32)"
            ]
          },
          "metadata": {},
          "execution_count": 373
        }
      ]
    },
    {
      "cell_type": "markdown",
      "source": [
        "### Indexing (selecting data from tensors)"
      ],
      "metadata": {
        "id": "rApXsY1OIl_E"
      }
    },
    {
      "cell_type": "code",
      "source": [
        "ind_1 = torch.arange(1,10).reshape(1,3,3)\n",
        "ind_1 , ind_1.shape , ind_1.ndim"
      ],
      "metadata": {
        "colab": {
          "base_uri": "https://localhost:8080/"
        },
        "id": "zWs3rY5SIQfj",
        "outputId": "f11145d7-91b5-416f-e563-6c666d2ddbf3"
      },
      "execution_count": null,
      "outputs": [
        {
          "output_type": "execute_result",
          "data": {
            "text/plain": [
              "(tensor([[[1, 2, 3],\n",
              "          [4, 5, 6],\n",
              "          [7, 8, 9]]]),\n",
              " torch.Size([1, 3, 3]),\n",
              " 3)"
            ]
          },
          "metadata": {},
          "execution_count": 370
        }
      ]
    },
    {
      "cell_type": "code",
      "source": [
        "ind_1[0,1,2] # Depth->row->columns"
      ],
      "metadata": {
        "colab": {
          "base_uri": "https://localhost:8080/"
        },
        "id": "9TpgtCaLI9aF",
        "outputId": "3c384416-4760-4eff-90cf-43b600455a53"
      },
      "execution_count": null,
      "outputs": [
        {
          "output_type": "execute_result",
          "data": {
            "text/plain": [
              "tensor(6)"
            ]
          },
          "metadata": {},
          "execution_count": 324
        }
      ]
    },
    {
      "cell_type": "code",
      "source": [
        "ind_1[:,:3,:2]"
      ],
      "metadata": {
        "colab": {
          "base_uri": "https://localhost:8080/"
        },
        "id": "sCpkUYYJJP-G",
        "outputId": "830a4f0d-bd10-4c0a-d660-0c5f8c8c15e1"
      },
      "execution_count": null,
      "outputs": [
        {
          "output_type": "execute_result",
          "data": {
            "text/plain": [
              "tensor([[[1, 2],\n",
              "         [4, 5],\n",
              "         [7, 8]]])"
            ]
          },
          "metadata": {},
          "execution_count": 329
        }
      ]
    },
    {
      "cell_type": "markdown",
      "source": [
        "### Torch Reproducblity\n",
        "\n",
        "`to reduce the randomness in neural networks and Pytorch comes the concept called **random seed**"
      ],
      "metadata": {
        "id": "qMFW6cEqXLeb"
      }
    },
    {
      "cell_type": "code",
      "source": [
        "Tensor_1 =  torch.rand(3,4)\n",
        "Tensor_2 = torch.rand(3,4)\n",
        "print(f\"Tensor_1:{Tensor_1}\\nTensor_2:{Tensor_2}\")\n",
        "print(f\"Equal:{Tensor_1 == Tensor_2}\")"
      ],
      "metadata": {
        "colab": {
          "base_uri": "https://localhost:8080/"
        },
        "id": "tDOjymjsXKyh",
        "outputId": "c7e12d29-a643-4757-ae75-7cdd21e602d5"
      },
      "execution_count": null,
      "outputs": [
        {
          "output_type": "stream",
          "name": "stdout",
          "text": [
            "Tensor_1:tensor([[0.8823, 0.9150, 0.3829, 0.9593],\n",
            "        [0.3904, 0.6009, 0.2566, 0.7936],\n",
            "        [0.9408, 0.1332, 0.9346, 0.5936]])\n",
            "Tensor_2:tensor([[0.8694, 0.5677, 0.7411, 0.4294],\n",
            "        [0.8854, 0.5739, 0.2666, 0.6274],\n",
            "        [0.2696, 0.4414, 0.2969, 0.8317]])\n",
            "Equal:tensor([[False, False, False, False],\n",
            "        [False, False, False, False],\n",
            "        [False, False, False, False]])\n"
          ]
        }
      ]
    },
    {
      "cell_type": "code",
      "source": [
        "random_seed = 42\n",
        "torch.manual_seed(random_seed)\n",
        "Tensor_x = torch.randn(3,4)\n",
        "torch.manual_seed(random_seed)\n",
        "Tensor_y = torch.randn(3,4)\n",
        "\n",
        "print(f\"Tensor_x:{Tensor_x}\\nTensor_y:{Tensor_y}\")\n",
        "print(f\"Equal:{Tensor_x == Tensor_y}\")"
      ],
      "metadata": {
        "colab": {
          "base_uri": "https://localhost:8080/"
        },
        "id": "yhTxzbwjYllv",
        "outputId": "38693542-508d-4cf7-fadb-5c7fe36d9a11"
      },
      "execution_count": null,
      "outputs": [
        {
          "output_type": "stream",
          "name": "stdout",
          "text": [
            "Tensor_x:tensor([[ 0.3367,  0.1288,  0.2345,  0.2303],\n",
            "        [-1.1229, -0.1863,  2.2082, -0.6380],\n",
            "        [ 0.4617,  0.2674,  0.5349,  0.8094]])\n",
            "Tensor_y:tensor([[ 0.3367,  0.1288,  0.2345,  0.2303],\n",
            "        [-1.1229, -0.1863,  2.2082, -0.6380],\n",
            "        [ 0.4617,  0.2674,  0.5349,  0.8094]])\n",
            "Equal:tensor([[True, True, True, True],\n",
            "        [True, True, True, True],\n",
            "        [True, True, True, True]])\n"
          ]
        }
      ]
    },
    {
      "cell_type": "markdown",
      "source": [
        "### Accessing Gpu in different ways"
      ],
      "metadata": {
        "id": "ZXpLfrZqaWa1"
      }
    },
    {
      "cell_type": "code",
      "source": [
        "!nvidia-smi"
      ],
      "metadata": {
        "colab": {
          "base_uri": "https://localhost:8080/"
        },
        "id": "JVDdMgxvY8CQ",
        "outputId": "c94f50a5-8dde-4704-8901-952435637492"
      },
      "execution_count": null,
      "outputs": [
        {
          "output_type": "stream",
          "name": "stdout",
          "text": [
            "Wed Mar 26 07:45:24 2025       \n",
            "+-----------------------------------------------------------------------------------------+\n",
            "| NVIDIA-SMI 550.54.15              Driver Version: 550.54.15      CUDA Version: 12.4     |\n",
            "|-----------------------------------------+------------------------+----------------------+\n",
            "| GPU  Name                 Persistence-M | Bus-Id          Disp.A | Volatile Uncorr. ECC |\n",
            "| Fan  Temp   Perf          Pwr:Usage/Cap |           Memory-Usage | GPU-Util  Compute M. |\n",
            "|                                         |                        |               MIG M. |\n",
            "|=========================================+========================+======================|\n",
            "|   0  Tesla T4                       Off |   00000000:00:04.0 Off |                    0 |\n",
            "| N/A   58C    P8             11W /   70W |       0MiB /  15360MiB |      0%      Default |\n",
            "|                                         |                        |                  N/A |\n",
            "+-----------------------------------------+------------------------+----------------------+\n",
            "                                                                                         \n",
            "+-----------------------------------------------------------------------------------------+\n",
            "| Processes:                                                                              |\n",
            "|  GPU   GI   CI        PID   Type   Process name                              GPU Memory |\n",
            "|        ID   ID                                                               Usage      |\n",
            "|=========================================================================================|\n",
            "|  No running processes found                                                             |\n",
            "+-----------------------------------------------------------------------------------------+\n"
          ]
        }
      ]
    },
    {
      "cell_type": "code",
      "source": [
        "import torch\n",
        "\n",
        "torch.cuda.is_available()"
      ],
      "metadata": {
        "colab": {
          "base_uri": "https://localhost:8080/"
        },
        "id": "-B90NeyFac5m",
        "outputId": "ce39280e-bf28-49a4-df28-93fd9bbcc9ae"
      },
      "execution_count": null,
      "outputs": [
        {
          "output_type": "execute_result",
          "data": {
            "text/plain": [
              "True"
            ]
          },
          "metadata": {},
          "execution_count": 22
        }
      ]
    },
    {
      "cell_type": "code",
      "source": [
        "device = \"cuda\" if torch.cuda.is_available() else \"cpu\"\n",
        "device"
      ],
      "metadata": {
        "colab": {
          "base_uri": "https://localhost:8080/",
          "height": 35
        },
        "id": "64T8fujsaxAQ",
        "outputId": "af8868ff-136b-4cfe-bcda-074acd3f526d"
      },
      "execution_count": null,
      "outputs": [
        {
          "output_type": "execute_result",
          "data": {
            "text/plain": [
              "'cuda'"
            ],
            "application/vnd.google.colaboratory.intrinsic+json": {
              "type": "string"
            }
          },
          "metadata": {},
          "execution_count": 23
        }
      ]
    },
    {
      "cell_type": "code",
      "source": [
        "torch.cuda.current_device()"
      ],
      "metadata": {
        "colab": {
          "base_uri": "https://localhost:8080/"
        },
        "id": "AxZFGP5jbJ6q",
        "outputId": "4108afa9-e9b3-462f-c36e-b9a38946eb00"
      },
      "execution_count": null,
      "outputs": [
        {
          "output_type": "execute_result",
          "data": {
            "text/plain": [
              "0"
            ]
          },
          "metadata": {},
          "execution_count": 24
        }
      ]
    },
    {
      "cell_type": "code",
      "source": [
        "torch.cuda.device(0)"
      ],
      "metadata": {
        "colab": {
          "base_uri": "https://localhost:8080/"
        },
        "id": "5iK_RslrbM9V",
        "outputId": "66089851-d8eb-4b3f-d705-fd3ed337714c"
      },
      "execution_count": null,
      "outputs": [
        {
          "output_type": "execute_result",
          "data": {
            "text/plain": [
              "<torch.cuda.device at 0x7977ae5aa690>"
            ]
          },
          "metadata": {},
          "execution_count": 25
        }
      ]
    },
    {
      "cell_type": "code",
      "source": [
        "torch.cuda.device_count()"
      ],
      "metadata": {
        "colab": {
          "base_uri": "https://localhost:8080/"
        },
        "id": "byEmmmpRbSoX",
        "outputId": "ed5e09a3-c317-45fc-edd0-5cfc249eeab7"
      },
      "execution_count": null,
      "outputs": [
        {
          "output_type": "execute_result",
          "data": {
            "text/plain": [
              "1"
            ]
          },
          "metadata": {},
          "execution_count": 26
        }
      ]
    },
    {
      "cell_type": "code",
      "source": [
        "torch.cuda.get_device_name(0)"
      ],
      "metadata": {
        "colab": {
          "base_uri": "https://localhost:8080/",
          "height": 35
        },
        "id": "AVupthokbXEJ",
        "outputId": "3152826f-81c5-4bd7-d0f8-1fa649524cd5"
      },
      "execution_count": null,
      "outputs": [
        {
          "output_type": "execute_result",
          "data": {
            "text/plain": [
              "'Tesla T4'"
            ],
            "application/vnd.google.colaboratory.intrinsic+json": {
              "type": "string"
            }
          },
          "metadata": {},
          "execution_count": 27
        }
      ]
    },
    {
      "cell_type": "code",
      "source": [
        "torch.cuda.memory_usage()\n",
        "torch.cuda.memory_allocated()\n",
        "torch.cuda.memory_reserved()"
      ],
      "metadata": {
        "colab": {
          "base_uri": "https://localhost:8080/"
        },
        "id": "9CIOUlt2bm18",
        "outputId": "e173ed6a-20cb-45df-e279-6833c9609417"
      },
      "execution_count": null,
      "outputs": [
        {
          "output_type": "execute_result",
          "data": {
            "text/plain": [
              "0"
            ]
          },
          "metadata": {},
          "execution_count": 28
        }
      ]
    },
    {
      "cell_type": "code",
      "source": [
        "torch.cuda.temperature()"
      ],
      "metadata": {
        "colab": {
          "base_uri": "https://localhost:8080/"
        },
        "id": "IBDNO_02bzNw",
        "outputId": "4c5505c7-d883-41f7-8bc0-e922964ee384"
      },
      "execution_count": null,
      "outputs": [
        {
          "output_type": "execute_result",
          "data": {
            "text/plain": [
              "42"
            ]
          },
          "metadata": {},
          "execution_count": 29
        }
      ]
    },
    {
      "cell_type": "markdown",
      "source": [
        "### Putting tensor and models in GPU and Moving back to CPU"
      ],
      "metadata": {
        "id": "3TMiwtcEb4Vu"
      }
    },
    {
      "cell_type": "code",
      "source": [
        "gpu_1 = torch.tensor([1,2,3]).to(device)\n",
        "gpu_1 , gpu_1.device"
      ],
      "metadata": {
        "colab": {
          "base_uri": "https://localhost:8080/"
        },
        "id": "y18xTElIb23H",
        "outputId": "b5804cfc-d451-4dc4-982c-c7e3be29b228"
      },
      "execution_count": null,
      "outputs": [
        {
          "output_type": "execute_result",
          "data": {
            "text/plain": [
              "(tensor([1, 2, 3], device='cuda:0'), device(type='cuda', index=0))"
            ]
          },
          "metadata": {},
          "execution_count": 33
        }
      ]
    },
    {
      "cell_type": "code",
      "source": [
        "gpu_1 = torch.tensor([1,2,3] , device='cuda')\n",
        "gpu_1 , gpu_1.device"
      ],
      "metadata": {
        "colab": {
          "base_uri": "https://localhost:8080/"
        },
        "id": "hAnxuunzcW9M",
        "outputId": "2a241dff-8c91-4d86-a6a5-db7217723daf"
      },
      "execution_count": null,
      "outputs": [
        {
          "output_type": "execute_result",
          "data": {
            "text/plain": [
              "(tensor([1, 2, 3], device='cuda:0'), device(type='cuda', index=0))"
            ]
          },
          "metadata": {},
          "execution_count": 34
        }
      ]
    },
    {
      "cell_type": "code",
      "source": [
        "# If the tensor is Gpu , can't transform on it as numpy\n",
        "gpu_1.numpy()"
      ],
      "metadata": {
        "colab": {
          "base_uri": "https://localhost:8080/",
          "height": 141
        },
        "id": "I8PrRUBFctU8",
        "outputId": "05ac4abb-4cd2-4a10-a62a-804501879081"
      },
      "execution_count": null,
      "outputs": [
        {
          "output_type": "error",
          "ename": "TypeError",
          "evalue": "can't convert cuda:0 device type tensor to numpy. Use Tensor.cpu() to copy the tensor to host memory first.",
          "traceback": [
            "\u001b[0;31m---------------------------------------------------------------------------\u001b[0m",
            "\u001b[0;31mTypeError\u001b[0m                                 Traceback (most recent call last)",
            "\u001b[0;32m<ipython-input-36-9638530a2fe9>\u001b[0m in \u001b[0;36m<cell line: 0>\u001b[0;34m()\u001b[0m\n\u001b[0;32m----> 1\u001b[0;31m \u001b[0mgpu_1\u001b[0m\u001b[0;34m.\u001b[0m\u001b[0mnumpy\u001b[0m\u001b[0;34m(\u001b[0m\u001b[0;34m)\u001b[0m\u001b[0;34m\u001b[0m\u001b[0;34m\u001b[0m\u001b[0m\n\u001b[0m",
            "\u001b[0;31mTypeError\u001b[0m: can't convert cuda:0 device type tensor to numpy. Use Tensor.cpu() to copy the tensor to host memory first."
          ]
        }
      ]
    },
    {
      "cell_type": "code",
      "source": [
        "back_to_cpu = gpu_1.cpu().numpy()\n",
        "back_to_cpu"
      ],
      "metadata": {
        "colab": {
          "base_uri": "https://localhost:8080/"
        },
        "id": "C9DLra_adKna",
        "outputId": "8bbd7a40-93ee-4a33-b417-1b0111b2bb95"
      },
      "execution_count": null,
      "outputs": [
        {
          "output_type": "execute_result",
          "data": {
            "text/plain": [
              "array([1, 2, 3])"
            ]
          },
          "metadata": {},
          "execution_count": 40
        }
      ]
    },
    {
      "cell_type": "code",
      "source": [
        "gpu_1"
      ],
      "metadata": {
        "colab": {
          "base_uri": "https://localhost:8080/"
        },
        "id": "nGe-MwWVdWlP",
        "outputId": "4fe17235-fe1b-4b49-d1db-820f6bf66ae4"
      },
      "execution_count": null,
      "outputs": [
        {
          "output_type": "execute_result",
          "data": {
            "text/plain": [
              "tensor([1, 2, 3], device='cuda:0')"
            ]
          },
          "metadata": {},
          "execution_count": 41
        }
      ]
    },
    {
      "cell_type": "markdown",
      "source": [
        "### Exercises"
      ],
      "metadata": {
        "id": "yeh-qAHVdiuG"
      }
    },
    {
      "cell_type": "code",
      "source": [
        "radn_ten = torch.randn(7,7)\n",
        "radn_ten"
      ],
      "metadata": {
        "colab": {
          "base_uri": "https://localhost:8080/"
        },
        "id": "hM3-955gdkMi",
        "outputId": "96f0592f-cd1d-4b7b-8a8a-c421e5db7389"
      },
      "execution_count": null,
      "outputs": [
        {
          "output_type": "execute_result",
          "data": {
            "text/plain": [
              "tensor([[ 1.1225,  0.8233, -0.0094, -1.1055,  0.0524, -1.1811,  0.9244],\n",
              "        [ 0.1889,  0.5182, -0.6352,  0.6139, -0.1536,  0.8081,  0.6514],\n",
              "        [-0.0545, -0.2884,  1.2885, -0.6872,  0.9354,  0.1156, -0.0666],\n",
              "        [-0.6407,  2.0496,  0.5311,  1.9139,  0.0761,  0.5260,  0.0167],\n",
              "        [ 0.4637, -0.0359, -0.3240, -0.5320, -0.8193,  0.3267, -0.8774],\n",
              "        [ 1.0425, -0.2857,  0.6437, -0.6400,  1.0175,  0.6287, -1.8424],\n",
              "        [-0.1943, -1.4934,  1.3606, -0.5917,  0.3256,  0.9151,  0.4901]])"
            ]
          },
          "metadata": {},
          "execution_count": 44
        }
      ]
    },
    {
      "cell_type": "code",
      "source": [
        "torch.mm(radn_ten,radn_ten.T)"
      ],
      "metadata": {
        "colab": {
          "base_uri": "https://localhost:8080/"
        },
        "id": "26CZ4tqkd-mg",
        "outputId": "1c47d456-5f0f-4102-b135-1a2d0a7e724e"
      },
      "execution_count": null,
      "outputs": [
        {
          "output_type": "execute_result",
          "data": {
            "text/plain": [
              "tensor([[ 5.4123, -0.3943,  0.2998, -1.7546, -0.1577, -0.7558, -1.4169],\n",
              "        [-0.3943,  2.1855, -1.4937,  2.2028, -0.2334, -1.6012, -1.0294],\n",
              "        [ 0.2998, -1.4937,  3.1114, -1.0562, -0.7370,  2.4421,  2.9788],\n",
              "        [-1.7546,  2.2028, -1.0562,  8.8392, -1.4661, -1.7591, -2.8320],\n",
              "        [-0.1577, -0.2334, -0.7370, -1.4661,  2.1520,  1.6137, -0.5604],\n",
              "        [-0.7558, -1.6012,  2.4421, -1.7591,  1.6137,  6.8175,  1.4823],\n",
              "        [-1.4169, -1.0294,  2.9788, -2.8320, -0.5604,  1.4823,  5.6531]])"
            ]
          },
          "metadata": {},
          "execution_count": 45
        }
      ]
    },
    {
      "cell_type": "code",
      "source": [
        "radn_ten @ radn_ten.T"
      ],
      "metadata": {
        "colab": {
          "base_uri": "https://localhost:8080/"
        },
        "id": "dDL2wTFMeNhz",
        "outputId": "31584f16-3c51-492c-aa97-9c211d2dce31"
      },
      "execution_count": null,
      "outputs": [
        {
          "output_type": "execute_result",
          "data": {
            "text/plain": [
              "tensor([[ 5.4123, -0.3943,  0.2998, -1.7546, -0.1577, -0.7558, -1.4169],\n",
              "        [-0.3943,  2.1855, -1.4937,  2.2028, -0.2334, -1.6012, -1.0294],\n",
              "        [ 0.2998, -1.4937,  3.1114, -1.0562, -0.7370,  2.4421,  2.9788],\n",
              "        [-1.7546,  2.2028, -1.0562,  8.8392, -1.4661, -1.7591, -2.8320],\n",
              "        [-0.1577, -0.2334, -0.7370, -1.4661,  2.1520,  1.6137, -0.5604],\n",
              "        [-0.7558, -1.6012,  2.4421, -1.7591,  1.6137,  6.8175,  1.4823],\n",
              "        [-1.4169, -1.0294,  2.9788, -2.8320, -0.5604,  1.4823,  5.6531]])"
            ]
          },
          "metadata": {},
          "execution_count": 46
        }
      ]
    },
    {
      "cell_type": "code",
      "source": [
        "torch.matmul(radn_ten,radn_ten.T)"
      ],
      "metadata": {
        "colab": {
          "base_uri": "https://localhost:8080/"
        },
        "id": "FYnEoEWueU-j",
        "outputId": "910edea0-0a31-4fc1-f367-2437dda241ff"
      },
      "execution_count": null,
      "outputs": [
        {
          "output_type": "execute_result",
          "data": {
            "text/plain": [
              "tensor([[ 5.4123, -0.3943,  0.2998, -1.7546, -0.1577, -0.7558, -1.4169],\n",
              "        [-0.3943,  2.1855, -1.4937,  2.2028, -0.2334, -1.6012, -1.0294],\n",
              "        [ 0.2998, -1.4937,  3.1114, -1.0562, -0.7370,  2.4421,  2.9788],\n",
              "        [-1.7546,  2.2028, -1.0562,  8.8392, -1.4661, -1.7591, -2.8320],\n",
              "        [-0.1577, -0.2334, -0.7370, -1.4661,  2.1520,  1.6137, -0.5604],\n",
              "        [-0.7558, -1.6012,  2.4421, -1.7591,  1.6137,  6.8175,  1.4823],\n",
              "        [-1.4169, -1.0294,  2.9788, -2.8320, -0.5604,  1.4823,  5.6531]])"
            ]
          },
          "metadata": {},
          "execution_count": 47
        }
      ]
    },
    {
      "cell_type": "code",
      "source": [
        "randn_2 = torch.randn(1,7)"
      ],
      "metadata": {
        "id": "Tg0CXJD_ecaD"
      },
      "execution_count": null,
      "outputs": []
    },
    {
      "cell_type": "code",
      "source": [
        "radn_ten @ randn_2"
      ],
      "metadata": {
        "colab": {
          "base_uri": "https://localhost:8080/",
          "height": 141
        },
        "id": "6JTtySJ3erMr",
        "outputId": "230d4f5b-934f-4952-8300-fe891ab6fcdf"
      },
      "execution_count": null,
      "outputs": [
        {
          "output_type": "error",
          "ename": "RuntimeError",
          "evalue": "mat1 and mat2 shapes cannot be multiplied (7x7 and 1x7)",
          "traceback": [
            "\u001b[0;31m---------------------------------------------------------------------------\u001b[0m",
            "\u001b[0;31mRuntimeError\u001b[0m                              Traceback (most recent call last)",
            "\u001b[0;32m<ipython-input-53-fde6a60be94f>\u001b[0m in \u001b[0;36m<cell line: 0>\u001b[0;34m()\u001b[0m\n\u001b[0;32m----> 1\u001b[0;31m \u001b[0mradn_ten\u001b[0m \u001b[0;34m@\u001b[0m \u001b[0mrandn_2\u001b[0m\u001b[0;34m\u001b[0m\u001b[0;34m\u001b[0m\u001b[0m\n\u001b[0m",
            "\u001b[0;31mRuntimeError\u001b[0m: mat1 and mat2 shapes cannot be multiplied (7x7 and 1x7)"
          ]
        }
      ]
    },
    {
      "cell_type": "code",
      "source": [
        "radn_ten.shape , randn_2.shape , randn_2.T.shape"
      ],
      "metadata": {
        "colab": {
          "base_uri": "https://localhost:8080/"
        },
        "id": "icK9qcnffNBl",
        "outputId": "ea36742a-eb0a-4682-e57c-621d2ece3b14"
      },
      "execution_count": null,
      "outputs": [
        {
          "output_type": "execute_result",
          "data": {
            "text/plain": [
              "(torch.Size([7, 7]), torch.Size([1, 7]), torch.Size([7, 1]))"
            ]
          },
          "metadata": {},
          "execution_count": 56
        }
      ]
    },
    {
      "cell_type": "code",
      "source": [
        "radn_ten @ randn_2.T # inner dimension"
      ],
      "metadata": {
        "colab": {
          "base_uri": "https://localhost:8080/"
        },
        "id": "17juuyAufAaG",
        "outputId": "48598965-ef50-4619-f9d6-e5441b6be337"
      },
      "execution_count": null,
      "outputs": [
        {
          "output_type": "execute_result",
          "data": {
            "text/plain": [
              "tensor([[-2.5777],\n",
              "        [ 0.0445],\n",
              "        [-3.9143],\n",
              "        [-1.3259],\n",
              "        [ 3.2164],\n",
              "        [-2.9932],\n",
              "        [-2.3932]])"
            ]
          },
          "metadata": {},
          "execution_count": 57
        }
      ]
    },
    {
      "cell_type": "code",
      "source": [
        "seed = 0\n",
        "torch.manual_seed(seed)\n",
        "test_1 = torch.randn(3,4)\n",
        "torch.manual_seed(seed)\n",
        "test_2 = torch.randn(3,4)\n",
        "print(test_1)\n",
        "print(test_2)\n",
        "print(test_1 == test_2)"
      ],
      "metadata": {
        "colab": {
          "base_uri": "https://localhost:8080/"
        },
        "id": "cVJDLzvbfHGb",
        "outputId": "18e5226c-c4ee-4cb7-97cb-04b4bd648be3"
      },
      "execution_count": null,
      "outputs": [
        {
          "output_type": "stream",
          "name": "stdout",
          "text": [
            "tensor([[ 1.5410, -0.2934, -2.1788,  0.5684],\n",
            "        [-1.0845, -1.3986,  0.4033,  0.8380],\n",
            "        [-0.7193, -0.4033, -0.5966,  0.1820]])\n",
            "tensor([[ 1.5410, -0.2934, -2.1788,  0.5684],\n",
            "        [-1.0845, -1.3986,  0.4033,  0.8380],\n",
            "        [-0.7193, -0.4033, -0.5966,  0.1820]])\n",
            "tensor([[True, True, True, True],\n",
            "        [True, True, True, True],\n",
            "        [True, True, True, True]])\n"
          ]
        }
      ]
    },
    {
      "cell_type": "code",
      "source": [
        "torch.cuda.is_available()"
      ],
      "metadata": {
        "colab": {
          "base_uri": "https://localhost:8080/"
        },
        "id": "XPqAVgb2hcp4",
        "outputId": "e1c3e41f-13de-495c-eb2e-ccc2278af559"
      },
      "execution_count": null,
      "outputs": [
        {
          "output_type": "execute_result",
          "data": {
            "text/plain": [
              "True"
            ]
          },
          "metadata": {},
          "execution_count": 73
        }
      ]
    },
    {
      "cell_type": "code",
      "source": [
        "gpu_seed = 0\n",
        "# torch.cuda.manual_seed_all(gpu_seed)\n",
        "torch.cuda.manual_seed(gpu_seed)\n",
        "test_3 = torch.randn(3,4 , device=device)\n",
        "torch.cuda.manual_seed(gpu_seed)\n",
        "test_4 = torch.randn(3,4 , device=device)\n",
        "print(test_3)\n",
        "print(test_4)\n",
        "print(test_3 == test_4)"
      ],
      "metadata": {
        "colab": {
          "base_uri": "https://localhost:8080/"
        },
        "id": "RIY9twWUfq5j",
        "outputId": "9f16206c-b339-4229-ab0d-b66f6bfc3425"
      },
      "execution_count": null,
      "outputs": [
        {
          "output_type": "stream",
          "name": "stdout",
          "text": [
            "tensor([[-0.9247, -0.4253, -2.6438,  0.1452],\n",
            "        [-0.1209, -0.5797, -0.6229, -0.3284],\n",
            "        [-1.0745, -0.3631, -1.6711,  2.2655]], device='cuda:0')\n",
            "tensor([[-0.9247, -0.4253, -2.6438,  0.1452],\n",
            "        [-0.1209, -0.5797, -0.6229, -0.3284],\n",
            "        [-1.0745, -0.3631, -1.6711,  2.2655]], device='cuda:0')\n",
            "tensor([[True, True, True, True],\n",
            "        [True, True, True, True],\n",
            "        [True, True, True, True]], device='cuda:0')\n"
          ]
        }
      ]
    },
    {
      "cell_type": "code",
      "source": [
        "torch.manual_seed(1234)\n",
        "temp_1 = torch.randn(2,3 , device=device)\n",
        "torch.manual_seed(1234)\n",
        "temp_2 = torch.randn(2,3 , device=device)\n",
        "print(temp_1)\n",
        "print(temp_2)\n",
        "print(temp_1 == temp_2)"
      ],
      "metadata": {
        "colab": {
          "base_uri": "https://localhost:8080/"
        },
        "id": "7qnJi8NZhMyC",
        "outputId": "bb7207a7-9e52-40d8-c353-c52553e31cb5"
      },
      "execution_count": null,
      "outputs": [
        {
          "output_type": "stream",
          "name": "stdout",
          "text": [
            "tensor([[-1.6165,  0.5685, -0.5102],\n",
            "        [-0.9113, -1.1555, -0.2262]], device='cuda:0')\n",
            "tensor([[-1.6165,  0.5685, -0.5102],\n",
            "        [-0.9113, -1.1555, -0.2262]], device='cuda:0')\n",
            "tensor([[True, True, True],\n",
            "        [True, True, True]], device='cuda:0')\n"
          ]
        }
      ]
    },
    {
      "cell_type": "code",
      "source": [
        "mm = temp_1 @ temp_2.T\n",
        "mm"
      ],
      "metadata": {
        "colab": {
          "base_uri": "https://localhost:8080/"
        },
        "id": "4Xzr2oVDh9B7",
        "outputId": "7e0ceb34-fe22-46e6-c5f5-09d13bce4fac"
      },
      "execution_count": null,
      "outputs": [
        {
          "output_type": "execute_result",
          "data": {
            "text/plain": [
              "tensor([[3.1965, 0.9317],\n",
              "        [0.9317, 2.2169]], device='cuda:0')"
            ]
          },
          "metadata": {},
          "execution_count": 85
        }
      ]
    },
    {
      "cell_type": "code",
      "source": [
        "torch.max(mm) , torch.min(mm)"
      ],
      "metadata": {
        "colab": {
          "base_uri": "https://localhost:8080/"
        },
        "id": "0xSDFmytijMO",
        "outputId": "bc97f3dc-d8a2-45e7-cb85-580f1a8d2c4a"
      },
      "execution_count": null,
      "outputs": [
        {
          "output_type": "execute_result",
          "data": {
            "text/plain": [
              "(tensor(3.1965, device='cuda:0'), tensor(0.9317, device='cuda:0'))"
            ]
          },
          "metadata": {},
          "execution_count": 88
        }
      ]
    },
    {
      "cell_type": "code",
      "source": [
        "torch.argmax(mm) , torch.argmin(mm)"
      ],
      "metadata": {
        "colab": {
          "base_uri": "https://localhost:8080/"
        },
        "id": "pOwJnfocitWf",
        "outputId": "69871c96-7277-4c31-aa3a-316b6cddc547"
      },
      "execution_count": null,
      "outputs": [
        {
          "output_type": "execute_result",
          "data": {
            "text/plain": [
              "(tensor(0, device='cuda:0'), tensor(1, device='cuda:0'))"
            ]
          },
          "metadata": {},
          "execution_count": 89
        }
      ]
    },
    {
      "cell_type": "code",
      "source": [
        "torch.manual_seed(7)\n",
        "if device == 'cuda':\n",
        "  torch.cuda.manual_seed(7)\n",
        "\n",
        "random_tensor = torch.rand(1,1,1,10 , device=device)\n",
        "# random_tensor"
      ],
      "metadata": {
        "id": "WYfBOU1Pi1LP"
      },
      "execution_count": null,
      "outputs": []
    },
    {
      "cell_type": "code",
      "source": [
        "torch.manual_seed(7)\n",
        "fix = random_tensor.squeeze().to(device)\n",
        "fix.shape"
      ],
      "metadata": {
        "colab": {
          "base_uri": "https://localhost:8080/"
        },
        "id": "oiyOy7JNjBgv",
        "outputId": "0d7112e7-6c52-44ec-e484-a8b68f4e635b"
      },
      "execution_count": null,
      "outputs": [
        {
          "output_type": "execute_result",
          "data": {
            "text/plain": [
              "torch.Size([10])"
            ]
          },
          "metadata": {},
          "execution_count": 98
        }
      ]
    },
    {
      "cell_type": "code",
      "source": [
        "random_tensor == fix"
      ],
      "metadata": {
        "colab": {
          "base_uri": "https://localhost:8080/"
        },
        "id": "HzmEQ-GHjha5",
        "outputId": "6d8d8725-204c-4f86-c486-d19bdee2323e"
      },
      "execution_count": null,
      "outputs": [
        {
          "output_type": "execute_result",
          "data": {
            "text/plain": [
              "tensor([[[[True, True, True, True, True, True, True, True, True, True]]]],\n",
              "       device='cuda:0')"
            ]
          },
          "metadata": {},
          "execution_count": 99
        }
      ]
    },
    {
      "cell_type": "code",
      "source": [
        "seed = 0\n",
        "torch.manual_seed(seed)\n",
        "tensor_1 = torch.rand(7,7)\n",
        "torch.manual_seed(seed)\n",
        "tensor_2 = torch.rand(1,7)\n",
        "tensor_2 = tensor_2.reshape(7,1)\n",
        "tensor_mat = tensor_1 @ tensor_2\n",
        "print(tensor_mat)\n",
        "print(tensor_1)\n",
        "print(tensor_2)\n",
        "print(tensor_1 == tensor_2)\n"
      ],
      "metadata": {
        "colab": {
          "base_uri": "https://localhost:8080/"
        },
        "id": "WafO_AsWlDsh",
        "outputId": "e7dda990-7ac3-41f6-be2e-d8a351dfa9ac"
      },
      "execution_count": null,
      "outputs": [
        {
          "output_type": "stream",
          "name": "stdout",
          "text": [
            "tensor([[1.5985],\n",
            "        [1.1173],\n",
            "        [1.2741],\n",
            "        [1.6838],\n",
            "        [0.8279],\n",
            "        [1.0347],\n",
            "        [1.2498]])\n",
            "tensor([[0.4963, 0.7682, 0.0885, 0.1320, 0.3074, 0.6341, 0.4901],\n",
            "        [0.8964, 0.4556, 0.6323, 0.3489, 0.4017, 0.0223, 0.1689],\n",
            "        [0.2939, 0.5185, 0.6977, 0.8000, 0.1610, 0.2823, 0.6816],\n",
            "        [0.9152, 0.3971, 0.8742, 0.4194, 0.5529, 0.9527, 0.0362],\n",
            "        [0.1852, 0.3734, 0.3051, 0.9320, 0.1759, 0.2698, 0.1507],\n",
            "        [0.0317, 0.2081, 0.9298, 0.7231, 0.7423, 0.5263, 0.2437],\n",
            "        [0.5846, 0.0332, 0.1387, 0.2422, 0.8155, 0.7932, 0.2783]])\n",
            "tensor([[0.4963],\n",
            "        [0.7682],\n",
            "        [0.0885],\n",
            "        [0.1320],\n",
            "        [0.3074],\n",
            "        [0.6341],\n",
            "        [0.4901]])\n",
            "tensor([[ True, False, False, False, False, False, False],\n",
            "        [False, False, False, False, False, False, False],\n",
            "        [False, False, False, False, False, False, False],\n",
            "        [False, False, False, False, False, False, False],\n",
            "        [False, False, False, False, False, False, False],\n",
            "        [False, False, False, False, False, False, False],\n",
            "        [False, False, False, False, False, False, False]])\n"
          ]
        }
      ]
    }
  ]
}